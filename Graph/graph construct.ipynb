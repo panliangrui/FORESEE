{
 "cells": [
  {
   "cell_type": "code",
   "execution_count": 1,
   "metadata": {
    "collapsed": true,
    "ExecuteTime": {
     "start_time": "2024-01-17T19:05:24.395985Z",
     "end_time": "2024-01-17T19:05:30.025987Z"
    }
   },
   "outputs": [],
   "source": [
    "import json\n",
    "import torch\n",
    "import joblib\n",
    "import numpy as np\n",
    "from torch_geometric.data import Data"
   ]
  },
  {
   "cell_type": "code",
   "execution_count": 2,
   "outputs": [
    {
     "name": "stdout",
     "output_type": "stream",
     "text": [
      "4161\n"
     ]
    },
    {
     "name": "stderr",
     "output_type": "stream",
     "text": [
      "IOPub data rate exceeded.\n",
      "The notebook server will temporarily stop sending output\n",
      "to the client in order to avoid crashing it.\n",
      "To change this limit, set the config variable\n",
      "`--NotebookApp.iopub_data_rate_limit`.\n",
      "\n",
      "Current values:\n",
      "NotebookApp.iopub_data_rate_limit=1000000.0 (bytes/sec)\n",
      "NotebookApp.rate_limit_window=3.0 (secs)\n",
      "\n"
     ]
    }
   ],
   "source": [
    "examples = joblib.load('./ucec/ucec_256_features/np/TCGA-2E-A9G8-01Z-00-DX1.DCD3E31B-1774-40BA-805F-52FB9801D6C0.pkl') #ucec_patients.pkl\n",
    "print(len(examples))\n",
    "print(examples)"
   ],
   "metadata": {
    "collapsed": false,
    "ExecuteTime": {
     "start_time": "2023-12-20T15:41:51.604389Z",
     "end_time": "2023-12-20T15:42:01.193008Z"
    }
   }
  },
  {
   "cell_type": "raw",
   "source": [
    "## get patients"
   ],
   "metadata": {
    "collapsed": false
   }
  },
  {
   "cell_type": "code",
   "execution_count": 6,
   "outputs": [],
   "source": [
    "import os\n",
    "import pickle\n",
    "# 指定文件夹路径\n",
    "#folder_path = 'E:\\\\LUAD_WSI\\\\luad_wsi'  #datas\\luad\\luad_256_features\\np\n",
    "folder_path = 'Q:\\\\STAD_WSI\\\\stad_process'\n",
    "# 存储文件名的列表\n",
    "file_names = []\n",
    "# 遍历文件夹中的所有文件\n",
    "for file in os.listdir(folder_path):\n",
    "    # 取文件名的前12个字符\n",
    "    # file_name = file[:12]\n",
    "    file_name = file[:12]\n",
    "    # 将文件名添加到列表中\n",
    "    file_names.append(file_name)\n",
    "\n",
    "# 保存列表为.pkl文件\n",
    "output_file = 'Q:\\\\STAD_WSI\\\\stad\\\\stad_patients.pkl'\n",
    "with open(output_file, 'wb') as f:\n",
    "    pickle.dump(file_names, f)"
   ],
   "metadata": {
    "collapsed": false,
    "ExecuteTime": {
     "start_time": "2024-01-18T12:47:25.961628Z",
     "end_time": "2024-01-18T12:47:26.003708Z"
    }
   }
  },
  {
   "cell_type": "code",
   "execution_count": 7,
   "outputs": [
    {
     "name": "stdout",
     "output_type": "stream",
     "text": [
      "435\n",
      "['TCGA-3M-AB46', 'TCGA-3M-AB47', 'TCGA-B7-5816', 'TCGA-BR-4183', 'TCGA-BR-4184', 'TCGA-BR-4187', 'TCGA-BR-4188', 'TCGA-BR-4191', 'TCGA-BR-4201', 'TCGA-BR-4253', 'TCGA-BR-4255', 'TCGA-BR-4256', 'TCGA-BR-4257', 'TCGA-BR-4267', 'TCGA-BR-4279', 'TCGA-BR-4294', 'TCGA-BR-4357', 'TCGA-BR-4361', 'TCGA-BR-4362', 'TCGA-BR-4363', 'TCGA-BR-4366', 'TCGA-BR-4367', 'TCGA-BR-4368', 'TCGA-BR-4369', 'TCGA-BR-4370', 'TCGA-BR-4371', 'TCGA-BR-6452', 'TCGA-BR-6453', 'TCGA-BR-6454', 'TCGA-BR-6455', 'TCGA-BR-6456', 'TCGA-BR-6457', 'TCGA-BR-6458', 'TCGA-BR-6564', 'TCGA-BR-6565', 'TCGA-BR-6566', 'TCGA-BR-6705', 'TCGA-BR-6706', 'TCGA-BR-6707', 'TCGA-BR-6709', 'TCGA-BR-6710', 'TCGA-BR-6801', 'TCGA-BR-6802', 'TCGA-BR-6803', 'TCGA-BR-6852', 'TCGA-BR-7196', 'TCGA-BR-7197', 'TCGA-BR-7703', 'TCGA-BR-7704', 'TCGA-BR-7707', 'TCGA-BR-7715', 'TCGA-BR-7716', 'TCGA-BR-7717', 'TCGA-BR-7722', 'TCGA-BR-7723', 'TCGA-BR-7851', 'TCGA-BR-7901', 'TCGA-BR-7957', 'TCGA-BR-7958', 'TCGA-BR-7959', 'TCGA-BR-8058', 'TCGA-BR-8059', 'TCGA-BR-8060', 'TCGA-BR-8077', 'TCGA-BR-8078', 'TCGA-BR-8080', 'TCGA-BR-8081', 'TCGA-BR-8284', 'TCGA-BR-8285', 'TCGA-BR-8286', 'TCGA-BR-8289', 'TCGA-BR-8291', 'TCGA-BR-8295', 'TCGA-BR-8296', 'TCGA-BR-8297', 'TCGA-BR-8360', 'TCGA-BR-8361', 'TCGA-BR-8362', 'TCGA-BR-8363', 'TCGA-BR-8364', 'TCGA-BR-8365', 'TCGA-BR-8366', 'TCGA-BR-8367', 'TCGA-BR-8368', 'TCGA-BR-8369', 'TCGA-BR-8370', 'TCGA-BR-8371', 'TCGA-BR-8372', 'TCGA-BR-8373', 'TCGA-BR-8380', 'TCGA-BR-8381', 'TCGA-BR-8382', 'TCGA-BR-8384', 'TCGA-BR-8483', 'TCGA-BR-8485', 'TCGA-BR-8486', 'TCGA-BR-8487', 'TCGA-BR-8588', 'TCGA-BR-8589', 'TCGA-BR-8590', 'TCGA-BR-8591', 'TCGA-BR-8676', 'TCGA-BR-8677', 'TCGA-BR-8678', 'TCGA-BR-8679', 'TCGA-BR-8680', 'TCGA-BR-8682', 'TCGA-BR-8683', 'TCGA-BR-8686', 'TCGA-BR-8687', 'TCGA-BR-8690', 'TCGA-BR-A44T', 'TCGA-BR-A44U', 'TCGA-BR-A452', 'TCGA-BR-A453', 'TCGA-BR-A4CQ', 'TCGA-BR-A4CR', 'TCGA-BR-A4CS', 'TCGA-BR-A4IU', 'TCGA-BR-A4IV', 'TCGA-BR-A4IY', 'TCGA-BR-A4IZ', 'TCGA-BR-A4J1', 'TCGA-BR-A4J2', 'TCGA-BR-A4J4', 'TCGA-BR-A4J5', 'TCGA-BR-A4J6', 'TCGA-BR-A4J7', 'TCGA-BR-A4J8', 'TCGA-BR-A4J9', 'TCGA-BR-A4PD', 'TCGA-BR-A4PE', 'TCGA-BR-A4PF', 'TCGA-BR-A4QI', 'TCGA-BR-A4QL', 'TCGA-BR-A4QM', 'TCGA-CD-5798', 'TCGA-CD-5799', 'TCGA-CD-5800', 'TCGA-CD-5801', 'TCGA-CD-5802', 'TCGA-CD-5803', 'TCGA-CD-5804', 'TCGA-CD-5813', 'TCGA-CD-8524', 'TCGA-CD-8525', 'TCGA-CD-8526', 'TCGA-CD-8527', 'TCGA-CD-8528', 'TCGA-CD-8529', 'TCGA-CD-8530', 'TCGA-CD-8531', 'TCGA-CD-8532', 'TCGA-CD-8534', 'TCGA-CD-8535', 'TCGA-CD-8536', 'TCGA-CD-A486', 'TCGA-CD-A489', 'TCGA-CD-A48A', 'TCGA-CD-A48C', 'TCGA-CD-A4MG', 'TCGA-CD-A4MH', 'TCGA-CD-A4MI', 'TCGA-CD-A4MJ', 'TCGA-CG-4300', 'TCGA-CG-4301', 'TCGA-CG-4304', 'TCGA-CG-4305', 'TCGA-CG-4306', 'TCGA-CG-4436', 'TCGA-CG-4437', 'TCGA-CG-4438', 'TCGA-CG-4440', 'TCGA-CG-4441', 'TCGA-CG-4442', 'TCGA-CG-4443', 'TCGA-CG-4444', 'TCGA-CG-4449', 'TCGA-CG-4455', 'TCGA-CG-4460', 'TCGA-CG-4462', 'TCGA-CG-4465', 'TCGA-CG-4466', 'TCGA-CG-4469', 'TCGA-CG-4472', 'TCGA-CG-4474', 'TCGA-CG-4475', 'TCGA-CG-4476', 'TCGA-CG-4477', 'TCGA-CG-5716', 'TCGA-CG-5717', 'TCGA-CG-5718', 'TCGA-CG-5719', 'TCGA-CG-5720', 'TCGA-CG-5721', 'TCGA-CG-5722', 'TCGA-CG-5722', 'TCGA-CG-5723', 'TCGA-CG-5724', 'TCGA-CG-5725', 'TCGA-CG-5726', 'TCGA-CG-5727', 'TCGA-CG-5728', 'TCGA-CG-5730', 'TCGA-CG-5732', 'TCGA-CG-5733', 'TCGA-CG-5734', 'TCGA-D7-5577', 'TCGA-D7-5577', 'TCGA-D7-5578', 'TCGA-D7-5578', 'TCGA-D7-5579', 'TCGA-D7-5579', 'TCGA-D7-6518', 'TCGA-D7-6518', 'TCGA-D7-6519', 'TCGA-D7-6520', 'TCGA-D7-6520', 'TCGA-D7-6521', 'TCGA-D7-6521', 'TCGA-D7-6522', 'TCGA-D7-6522', 'TCGA-D7-6524', 'TCGA-D7-6524', 'TCGA-D7-6525', 'TCGA-D7-6525', 'TCGA-D7-6526', 'TCGA-D7-6526', 'TCGA-D7-6527', 'TCGA-D7-6527', 'TCGA-D7-6528', 'TCGA-D7-6528', 'TCGA-D7-6815', 'TCGA-D7-6817', 'TCGA-D7-6817', 'TCGA-D7-6818', 'TCGA-D7-6818', 'TCGA-D7-6820', 'TCGA-D7-6820', 'TCGA-D7-6822', 'TCGA-D7-6822', 'TCGA-D7-8570', 'TCGA-D7-8570', 'TCGA-D7-8572', 'TCGA-D7-8572', 'TCGA-D7-8573', 'TCGA-D7-8573', 'TCGA-D7-8574', 'TCGA-D7-8574', 'TCGA-D7-8575', 'TCGA-D7-8575', 'TCGA-D7-8576', 'TCGA-D7-8576', 'TCGA-D7-8578', 'TCGA-D7-8578', 'TCGA-D7-8579', 'TCGA-D7-8579', 'TCGA-D7-A4YT', 'TCGA-D7-A4YU', 'TCGA-D7-A4YV', 'TCGA-D7-A4YX', 'TCGA-D7-A4YY', 'TCGA-D7-A4Z0', 'TCGA-D7-A6ET', 'TCGA-D7-A6EV', 'TCGA-D7-A6EX', 'TCGA-D7-A6EY', 'TCGA-D7-A6EZ', 'TCGA-D7-A6F0', 'TCGA-D7-A6F2', 'TCGA-D7-A747', 'TCGA-D7-A748', 'TCGA-D7-A74A', 'TCGA-D7-A74B', 'TCGA-EQ-5647', 'TCGA-EQ-A4SO', 'TCGA-F1-6177', 'TCGA-F1-6874', 'TCGA-F1-6875', 'TCGA-F1-A448', 'TCGA-F1-A72C', 'TCGA-FP-7735', 'TCGA-FP-7829', 'TCGA-FP-7916', 'TCGA-FP-7998', 'TCGA-FP-8099', 'TCGA-FP-8209', 'TCGA-FP-8210', 'TCGA-FP-8211', 'TCGA-FP-8631', 'TCGA-FP-A4BE', 'TCGA-FP-A4BF', 'TCGA-FP-A8CX', 'TCGA-FP-A9TM', 'TCGA-HF-7131', 'TCGA-HF-7132', 'TCGA-HF-7133', 'TCGA-HF-7134', 'TCGA-HF-7136', 'TCGA-HF-A5NB', 'TCGA-HJ-7597', 'TCGA-HU-8238', 'TCGA-HU-8244', 'TCGA-HU-8245', 'TCGA-HU-8249', 'TCGA-HU-8604', 'TCGA-HU-8608', 'TCGA-HU-8610', 'TCGA-HU-A4G2', 'TCGA-HU-A4G3', 'TCGA-HU-A4G6', 'TCGA-HU-A4G8', 'TCGA-HU-A4G9', 'TCGA-HU-A4GC', 'TCGA-HU-A4GD', 'TCGA-HU-A4GF', 'TCGA-HU-A4GH', 'TCGA-HU-A4GJ', 'TCGA-HU-A4GN', 'TCGA-HU-A4GP', 'TCGA-HU-A4GQ', 'TCGA-HU-A4GT', 'TCGA-HU-A4GU', 'TCGA-HU-A4GX', 'TCGA-HU-A4GY', 'TCGA-HU-A4H0', 'TCGA-HU-A4H5', 'TCGA-HU-A4H6', 'TCGA-HU-A4H8', 'TCGA-HU-A4HB', 'TCGA-HU-A4HD', 'TCGA-IN-7806', 'TCGA-IN-7808', 'TCGA-IN-8663', 'TCGA-IP-7968', 'TCGA-KB-A6F5', 'TCGA-KB-A6F7', 'TCGA-KB-A93G', 'TCGA-KB-A93H', 'TCGA-KB-A93J', 'TCGA-MX-A5UG', 'TCGA-MX-A5UJ', 'TCGA-MX-A663', 'TCGA-MX-A666', 'TCGA-R5-A7O7', 'TCGA-R5-A7ZE', 'TCGA-R5-A7ZF', 'TCGA-R5-A7ZI', 'TCGA-R5-A7ZR', 'TCGA-R5-A804', 'TCGA-R5-A805', 'TCGA-RD-A7BS', 'TCGA-RD-A7BT', 'TCGA-RD-A7BW', 'TCGA-RD-A7C1', 'TCGA-RD-A8MV', 'TCGA-RD-A8MW', 'TCGA-RD-A8N0', 'TCGA-RD-A8N1', 'TCGA-RD-A8N2', 'TCGA-RD-A8N4', 'TCGA-RD-A8N5', 'TCGA-RD-A8N6', 'TCGA-RD-A8N9', 'TCGA-RD-A8NB', 'TCGA-SW-A7EA', 'TCGA-SW-A7EB', 'TCGA-VQ-A8DL', 'TCGA-VQ-A8DT', 'TCGA-VQ-A8DU', 'TCGA-VQ-A8DV', 'TCGA-VQ-A8DZ', 'TCGA-VQ-A8E0', 'TCGA-VQ-A8E2', 'TCGA-VQ-A8E3', 'TCGA-VQ-A8E7', 'TCGA-VQ-A8P2', 'TCGA-VQ-A8P3', 'TCGA-VQ-A8P5', 'TCGA-VQ-A8P8', 'TCGA-VQ-A8PB', 'TCGA-VQ-A8PC', 'TCGA-VQ-A8PD', 'TCGA-VQ-A8PE', 'TCGA-VQ-A8PF', 'TCGA-VQ-A8PJ', 'TCGA-VQ-A8PK', 'TCGA-VQ-A8PM', 'TCGA-VQ-A8PO', 'TCGA-VQ-A8PP', 'TCGA-VQ-A8PQ', 'TCGA-VQ-A8PS', 'TCGA-VQ-A8PT', 'TCGA-VQ-A8PU', 'TCGA-VQ-A8PX', 'TCGA-VQ-A8PY', 'TCGA-VQ-A8PZ', 'TCGA-VQ-A91A', 'TCGA-VQ-A91D', 'TCGA-VQ-A91E', 'TCGA-VQ-A91K', 'TCGA-VQ-A91N', 'TCGA-VQ-A91Q', 'TCGA-VQ-A91S', 'TCGA-VQ-A91U', 'TCGA-VQ-A91V', 'TCGA-VQ-A91W', 'TCGA-VQ-A91X', 'TCGA-VQ-A91Y', 'TCGA-VQ-A91Z', 'TCGA-VQ-A922', 'TCGA-VQ-A923', 'TCGA-VQ-A924', 'TCGA-VQ-A925', 'TCGA-VQ-A927', 'TCGA-VQ-A928', 'TCGA-VQ-A92D', 'TCGA-VQ-A94O', 'TCGA-VQ-A94P', 'TCGA-VQ-A94R', 'TCGA-VQ-A94T', 'TCGA-VQ-A94U', 'TCGA-VQ-AA64', 'TCGA-VQ-AA68', 'TCGA-VQ-AA69', 'TCGA-VQ-AA6A', 'TCGA-VQ-AA6B', 'TCGA-VQ-AA6D', 'TCGA-VQ-AA6F', 'TCGA-VQ-AA6G', 'TCGA-VQ-AA6I', 'TCGA-VQ-AA6J', 'TCGA-VQ-AA6K', 'TCGA-ZA-A8F6', 'TCGA-ZQ-A9CR']\n"
     ]
    }
   ],
   "source": [
    "patients = joblib.load('Q:\\\\STAD_WSI\\\\stad\\\\stad_patients.pkl') #ucec_patients.pkl\n",
    "print(len(patients))\n",
    "print(patients)"
   ],
   "metadata": {
    "collapsed": false,
    "ExecuteTime": {
     "start_time": "2024-01-18T12:47:29.267417Z",
     "end_time": "2024-01-18T12:47:29.365142Z"
    }
   }
  },
  {
   "cell_type": "raw",
   "source": [
    "###get cencership and survival time"
   ],
   "metadata": {
    "collapsed": false
   }
  },
  {
   "cell_type": "code",
   "execution_count": 13,
   "outputs": [
    {
     "name": "stdout",
     "output_type": "stream",
     "text": [
      "{'TCGA-2E-A9G8': [1, 41.03], 'TCGA-4E-A92E': [1, 0.43], 'TCGA-5B-A90C': [1, 39.49], 'TCGA-5S-A9Q8': [1, 10.28], 'TCGA-A5-A0G1': [0, 106.8], 'TCGA-A5-A0G2': [1, 149.44], 'TCGA-A5-A0G5': [1, 36.99], 'TCGA-A5-A0G9': [1, 83.44], 'TCGA-A5-A0GA': [0, 17.84], 'TCGA-A5-A0GB': [1, 32.75], 'TCGA-A5-A0GE': [1, 105.29], 'TCGA-A5-A0GH': [1, 74.05], 'TCGA-A5-A0GI': [1, 88.11], 'TCGA-A5-A0GJ': [1, 65.7], 'TCGA-A5-A0GM': [1, 60.48], 'TCGA-A5-A0GN': [1, 60.48], 'TCGA-A5-A0GP': [1, 46.52], 'TCGA-A5-A0GQ': [1, 73.82], 'TCGA-A5-A0GU': [1, 28.25], 'TCGA-A5-A0GV': [1, 53.98], 'TCGA-A5-A0GW': [1, 23.19], 'TCGA-A5-A0GX': [1, 68.59], 'TCGA-A5-A0R6': [1, 37.88], 'TCGA-A5-A0R7': [1, 17.58], 'TCGA-A5-A0R8': [1, 19.58], 'TCGA-A5-A0R9': [1, 24.61], 'TCGA-A5-A0RA': [1, 29.04], 'TCGA-A5-A0VP': [1, 42.31], 'TCGA-A5-A0VQ': [1, 15.93], 'TCGA-A5-A1OF': [1, 31.96], 'TCGA-A5-A1OG': [0, 31.96], 'TCGA-A5-A1OH': [1, 36.3], 'TCGA-A5-A1OJ': [1, 33.05], 'TCGA-A5-A1OK': [1, 30.12], 'TCGA-A5-A2K2': [1, 118.1], 'TCGA-A5-A2K3': [1, 66.1], 'TCGA-A5-A2K4': [0, 28.61], 'TCGA-A5-A2K5': [1, 24.7], 'TCGA-A5-A2K7': [1, 34.92], 'TCGA-A5-A3LO': [1, 25.49], 'TCGA-A5-A3LP': [1, 14.95], 'TCGA-A5-A7WK': [1, 18.4], 'TCGA-A5-AB3J': [1, 16.82], 'TCGA-AJ-A23M': [0, 20.24], 'TCGA-AJ-A23N': [0, 14.42], 'TCGA-AJ-A2QK': [1, 21.12], 'TCGA-AJ-A2QL': [1, 19.78], 'TCGA-AJ-A2QM': [1, 29.37], 'TCGA-AJ-A2QN': [1, 35.12], 'TCGA-AJ-A2QO': [0, 34.33], 'TCGA-AJ-A3BD': [1, 34.13], 'TCGA-AJ-A3BF': [1, 18.1], 'TCGA-AJ-A3BG': [1, 18.07], 'TCGA-AJ-A3BI': [1, 18.89], 'TCGA-AJ-A3BK': [1, 33.87], 'TCGA-AJ-A3EJ': [0, 1.64], 'TCGA-AJ-A3EK': [1, 14.65], 'TCGA-AJ-A3EL': [1, 22.47], 'TCGA-AJ-A3EM': [1, 22.24], 'TCGA-AJ-A3I9': [0, 17.05], 'TCGA-AJ-A3IA': [1, 20.8], 'TCGA-AJ-A3NF': [1, 21.19], 'TCGA-AJ-A3NG': [1, 15.6], 'TCGA-AJ-A3OJ': [1, 15.34], 'TCGA-AJ-A3OK': [1, 15.93], 'TCGA-AJ-A3OL': [0, 14.75], 'TCGA-AJ-A3QS': [1, 16.85], 'TCGA-AJ-A3TW': [1, 16.85], 'TCGA-AJ-A5DW': [1, 12.81], 'TCGA-AJ-A6NU': [1, 20.76], 'TCGA-AJ-A8CT': [1, 2.69], 'TCGA-AJ-A8CV': [1, 35.09], 'TCGA-AJ-A8CW': [1, 0.13], 'TCGA-AP-A051': [1, 129.7], 'TCGA-AP-A052': [0, 21.98], 'TCGA-AP-A054': [0, 23.29], 'TCGA-AP-A056': [1, 86.01], 'TCGA-AP-A059': [1, 48.0], 'TCGA-AP-A05A': [0, 63.86], 'TCGA-AP-A05D': [1, 57.75], 'TCGA-AP-A05H': [1, 45.5], 'TCGA-AP-A05J': [1, 36.86], 'TCGA-AP-A05N': [0, 23.85], 'TCGA-AP-A05P': [1, 20.89], 'TCGA-AP-A0L8': [0, 48.75], 'TCGA-AP-A0L9': [1, 125.33], 'TCGA-AP-A0LD': [1, 117.9], 'TCGA-AP-A0LE': [1, 110.28], 'TCGA-AP-A0LF': [1, 93.92], 'TCGA-AP-A0LG': [1, 66.2], 'TCGA-AP-A0LH': [0, 36.33], 'TCGA-AP-A0LI': [1, 97.63], 'TCGA-AP-A0LJ': [1, 46.68], 'TCGA-AP-A0LL': [1, 83.9], 'TCGA-AP-A0LM': [1, 27.1], 'TCGA-AP-A0LN': [1, 82.46], 'TCGA-AP-A0LO': [0, 33.38], 'TCGA-AP-A0LP': [1, 61.6], 'TCGA-AP-A0LS': [1, 95.4], 'TCGA-AP-A0LT': [1, 49.18], 'TCGA-AP-A0LV': [1, 25.07], 'TCGA-AP-A1DH': [1, 71.62], 'TCGA-AP-A1DK': [1, 90.9], 'TCGA-AP-A1DM': [1, 55.85], 'TCGA-AP-A1DO': [1, 31.27], 'TCGA-AP-A1DP': [0, 35.51], 'TCGA-AP-A1DQ': [0, 46.75], 'TCGA-AP-A1DR': [1, 49.11], 'TCGA-AP-A1DV': [1, 6.7], 'TCGA-AP-A1E0': [1, 60.18], 'TCGA-AP-A1E1': [1, 45.83], 'TCGA-AP-A1E3': [1, 27.83], 'TCGA-AP-A1E4': [1, 51.08], 'TCGA-AP-A5FX': [0, 36.1], 'TCGA-AW-A1PO': [1, 0.56], 'TCGA-AX-A05S': [0, 13.57], 'TCGA-AX-A05T': [1, 33.18], 'TCGA-AX-A05U': [1, 29.66], 'TCGA-AX-A05W': [1, 80.49], 'TCGA-AX-A05Y': [1, 88.17], 'TCGA-AX-A05Z': [1, 71.45], 'TCGA-AX-A060': [1, 35.32], 'TCGA-AX-A062': [1, 45.96], 'TCGA-AX-A063': [1, 79.4], 'TCGA-AX-A064': [1, 49.84], 'TCGA-AX-A06B': [1, 67.61], 'TCGA-AX-A06F': [1, 57.42], 'TCGA-AX-A06L': [1, 60.61], 'TCGA-AX-A0IU': [1, 35.71], 'TCGA-AX-A0IW': [1, 37.75], 'TCGA-AX-A0J0': [1, 40.08], 'TCGA-AX-A0J1': [1, 77.33], 'TCGA-AX-A1C4': [1, 13.27], 'TCGA-AX-A1C5': [1, 32.88], 'TCGA-AX-A1C7': [1, 34.63], 'TCGA-AX-A1C8': [1, 25.49], 'TCGA-AX-A1C9': [1, 26.35], 'TCGA-AX-A1CA': [1, 32.0], 'TCGA-AX-A1CC': [1, 25.89], 'TCGA-AX-A1CE': [1, 34.07], 'TCGA-AX-A1CF': [1, 76.77], 'TCGA-AX-A1CI': [1, 85.41], 'TCGA-AX-A1CJ': [1, 73.36], 'TCGA-AX-A1CK': [1, 80.19], 'TCGA-AX-A1CN': [1, 37.55], 'TCGA-AX-A2IN': [0, 31.11], 'TCGA-AX-A2IO': [1, 64.88], 'TCGA-B5-A0JN': [1, 80.32], 'TCGA-B5-A0JR': [1, 56.87], 'TCGA-B5-A0JS': [1, 86.3], 'TCGA-B5-A0JT': [1, 55.26], 'TCGA-B5-A0JU': [1, 59.2], 'TCGA-B5-A0JV': [1, 85.94], 'TCGA-B5-A0JX': [1, 58.71], 'TCGA-B5-A0JY': [1, 69.22], 'TCGA-B5-A0JZ': [1, 71.39], 'TCGA-B5-A0K0': [1, 48.55], 'TCGA-B5-A0K1': [1, 36.47], 'TCGA-B5-A0K2': [1, 72.57], 'TCGA-B5-A0K3': [0, 27.27], 'TCGA-B5-A0K4': [1, 57.72], 'TCGA-B5-A0K6': [1, 64.16], 'TCGA-B5-A0K7': [1, 63.5], 'TCGA-B5-A0K8': [1, 27.83], 'TCGA-B5-A0K9': [0, 13.44], 'TCGA-B5-A11E': [1, 59.79], 'TCGA-B5-A11F': [1, 185.64], 'TCGA-B5-A11G': [1, 113.27], 'TCGA-B5-A11H': [1, 88.27], 'TCGA-B5-A11I': [1, 75.66], 'TCGA-B5-A11J': [1, 54.4], 'TCGA-B5-A11L': [0, 73.59], 'TCGA-B5-A11N': [1, 61.63], 'TCGA-B5-A11O': [1, 85.71], 'TCGA-B5-A11P': [1, 52.0], 'TCGA-B5-A11Q': [1, 32.06], 'TCGA-B5-A11R': [1, 77.17], 'TCGA-B5-A11S': [1, 73.23], 'TCGA-B5-A11U': [1, 16.72], 'TCGA-B5-A11V': [1, 19.55], 'TCGA-B5-A11W': [1, 19.48], 'TCGA-B5-A11Y': [1, 18.4], 'TCGA-B5-A11Z': [1, 17.35], 'TCGA-B5-A121': [1, 16.56], 'TCGA-B5-A1MR': [1, 225.33], 'TCGA-B5-A1MS': [0, 102.23], 'TCGA-B5-A1MU': [0, 50.85], 'TCGA-B5-A1MV': [1, 51.41], 'TCGA-B5-A1MW': [1, 14.68], 'TCGA-B5-A1MX': [1, 48.39], 'TCGA-B5-A1MY': [0, 11.86], 'TCGA-B5-A1MZ': [1, 52.5], 'TCGA-B5-A1N2': [0, 31.34], 'TCGA-B5-A3F9': [1, 136.5], 'TCGA-B5-A3FA': [1, 96.22], 'TCGA-B5-A3FB': [1, 93.43], 'TCGA-B5-A3FC': [1, 71.78], 'TCGA-B5-A3FD': [0, 39.32], 'TCGA-B5-A3FH': [1, 27.63], 'TCGA-B5-A3S1': [1, 29.63], 'TCGA-B5-A5OC': [1, 41.03], 'TCGA-B5-A5OD': [1, 34.1], 'TCGA-B5-A5OE': [1, 34.92], 'TCGA-BG-A0LW': [1, 18.59], 'TCGA-BG-A0LX': [1, 20.17], 'TCGA-BG-A0M0': [1, 19.32], 'TCGA-BG-A0M2': [1, 20.93], 'TCGA-BG-A0M3': [1, 35.18], 'TCGA-BG-A0M4': [1, 71.19], 'TCGA-BG-A0M6': [0, 22.04], 'TCGA-BG-A0M7': [1, 63.63], 'TCGA-BG-A0M9': [1, 74.57], 'TCGA-BG-A0MA': [0, 10.71], 'TCGA-BG-A0MC': [1, 41.49], 'TCGA-BG-A0MG': [1, 48.52], 'TCGA-BG-A0MI': [0, 23.46], 'TCGA-BG-A0MO': [1, 43.0], 'TCGA-BG-A0MQ': [1, 59.69], 'TCGA-BG-A0MT': [1, 21.16], 'TCGA-BG-A0MU': [1, 20.27], 'TCGA-BG-A0RY': [1, 15.41], 'TCGA-BG-A0VT': [1, 51.51], 'TCGA-BG-A0VV': [1, 51.02], 'TCGA-BG-A0VW': [1, 51.97], 'TCGA-BG-A0VX': [1, 34.26], 'TCGA-BG-A0VZ': [1, 52.6], 'TCGA-BG-A0W1': [1, 52.79], 'TCGA-BG-A0W2': [1, 56.54], 'TCGA-BG-A0YU': [1, 14.82], 'TCGA-BG-A0YV': [1, 12.55], 'TCGA-BG-A186': [1, 13.76], 'TCGA-BG-A187': [1, 14.72], 'TCGA-BG-A18A': [1, 13.99], 'TCGA-BG-A18B': [1, 15.44], 'TCGA-BG-A18C': [1, 15.44], 'TCGA-BG-A222': [1, 9.56], 'TCGA-BG-A2AE': [1, 23.69], 'TCGA-BG-A2L7': [1, 20.11], 'TCGA-BG-A3EW': [1, 11.3], 'TCGA-BG-A3PP': [1, 22.37], 'TCGA-BK-A0C9': [1, 35.87], 'TCGA-BK-A0CA': [1, 34.95], 'TCGA-BK-A0CB': [1, 35.87], 'TCGA-BK-A0CC': [1, 35.05], 'TCGA-BK-A139': [0, 30.98], 'TCGA-BK-A13B': [1, 31.73], 'TCGA-BK-A13C': [1, 24.97], 'TCGA-BK-A26L': [1, 24.11], 'TCGA-BK-A4ZD': [1, 16.62], 'TCGA-BK-A56F': [1, 13.17], 'TCGA-BK-A6W3': [1, 10.02], 'TCGA-BK-A6W4': [1, 9.86], 'TCGA-BS-A0T9': [0, 46.91], 'TCGA-BS-A0TA': [0, 24.31], 'TCGA-BS-A0TC': [1, 85.48], 'TCGA-BS-A0TD': [1, 78.15], 'TCGA-BS-A0TE': [0, 4.8], 'TCGA-BS-A0TG': [1, 77.89], 'TCGA-BS-A0TI': [1, 61.83], 'TCGA-BS-A0TJ': [1, 67.94], 'TCGA-BS-A0U5': [1, 96.42], 'TCGA-BS-A0U7': [0, 30.72], 'TCGA-BS-A0U8': [1, 97.34], 'TCGA-BS-A0U9': [1, 92.81], 'TCGA-BS-A0UA': [1, 114.82], 'TCGA-BS-A0UF': [1, 85.78], 'TCGA-BS-A0UJ': [1, 82.33], 'TCGA-BS-A0UL': [1, 81.5], 'TCGA-BS-A0UT': [1, 72.67], 'TCGA-BS-A0UV': [1, 73.19], 'TCGA-BS-A0V4': [1, 59.46], 'TCGA-BS-A0V6': [1, 89.52], 'TCGA-BS-A0V7': [1, 63.53], 'TCGA-BS-A0V8': [1, 83.57], 'TCGA-BS-A0VI': [1, 86.93], 'TCGA-BS-A0WQ': [1, 66.43], 'TCGA-D1-A0ZN': [1, 16.82], 'TCGA-D1-A0ZO': [1, 19.78], 'TCGA-D1-A0ZP': [1, 29.93], 'TCGA-D1-A0ZQ': [1, 8.54], 'TCGA-D1-A0ZR': [1, 0.56], 'TCGA-D1-A0ZS': [1, 4.86], 'TCGA-D1-A0ZU': [1, 28.65], 'TCGA-D1-A0ZV': [1, 23.92], 'TCGA-D1-A0ZZ': [1, 22.54], 'TCGA-D1-A101': [1, 1.74], 'TCGA-D1-A102': [1, 4.43], 'TCGA-D1-A103': [1, 21.98], 'TCGA-D1-A15V': [1, 39.45], 'TCGA-D1-A15W': [1, 30.06], 'TCGA-D1-A15X': [1, 29.86], 'TCGA-D1-A15Z': [0, 1.91], 'TCGA-D1-A160': [1, 3.68], 'TCGA-D1-A161': [1, 29.3], 'TCGA-D1-A163': [1, 32.56], 'TCGA-D1-A165': [1, 0.66], 'TCGA-D1-A167': [1, 15.7], 'TCGA-D1-A168': [1, 36.07], 'TCGA-D1-A169': [1, 37.29], 'TCGA-D1-A16B': [1, 36.33], 'TCGA-D1-A16D': [1, 37.48], 'TCGA-D1-A16E': [1, 36.76], 'TCGA-D1-A16G': [0, 27.4], 'TCGA-D1-A16I': [0, 11.5], 'TCGA-D1-A16J': [1, 29.89], 'TCGA-D1-A16N': [1, 31.04], 'TCGA-D1-A16O': [1, 33.61], 'TCGA-D1-A16Q': [1, 10.64], 'TCGA-D1-A16R': [1, 0.69], 'TCGA-D1-A16S': [1, 18.66], 'TCGA-D1-A16V': [0, 3.94], 'TCGA-D1-A16X': [1, 3.65], 'TCGA-D1-A16Y': [1, 17.48], 'TCGA-D1-A174': [1, 19.51], 'TCGA-D1-A176': [1, 30.12], 'TCGA-D1-A177': [1, 18.0], 'TCGA-D1-A17A': [1, 1.58], 'TCGA-D1-A17B': [1, 7.0], 'TCGA-D1-A17C': [1, 0.99], 'TCGA-D1-A17D': [1, 30.42], 'TCGA-D1-A17F': [1, 1.28], 'TCGA-D1-A17H': [1, 27.99], 'TCGA-D1-A17K': [1, 28.06], 'TCGA-D1-A17L': [1, 26.35], 'TCGA-D1-A17M': [1, 10.22], 'TCGA-D1-A17N': [1, 1.51], 'TCGA-D1-A17Q': [1, 1.77], 'TCGA-D1-A17R': [0, 11.14], 'TCGA-D1-A17S': [1, 24.28], 'TCGA-D1-A17T': [1, 2.33], 'TCGA-D1-A17U': [1, 22.9], 'TCGA-D1-A1NS': [1, 1.41], 'TCGA-D1-A1NU': [1, 13.21], 'TCGA-D1-A1NW': [1, 0.72], 'TCGA-D1-A1NX': [1, 18.23], 'TCGA-D1-A1NY': [1, 16.85], 'TCGA-D1-A1NZ': [1, 18.0], 'TCGA-D1-A1O0': [1, 2.07], 'TCGA-D1-A1O5': [1, 15.05], 'TCGA-D1-A1O7': [1, 1.05], 'TCGA-D1-A1O8': [0, 3.94], 'TCGA-D1-A2G0': [1, 48.75], 'TCGA-D1-A2G5': [1, 47.8], 'TCGA-D1-A2G6': [0, 8.48], 'TCGA-D1-A2G7': [0, 58.9], 'TCGA-D1-A3DA': [1, 15.87], 'TCGA-D1-A3DG': [0, 4.27], 'TCGA-D1-A3DH': [1, 18.82], 'TCGA-D1-A3JQ': [1, 17.28], 'TCGA-DF-A2KN': [1, 2.2], 'TCGA-DF-A2KR': [1, 71.55], 'TCGA-DF-A2KS': [1, 109.0], 'TCGA-DF-A2KU': [1, 100.76], 'TCGA-DF-A2KV': [1, 89.26], 'TCGA-DF-A2KZ': [1, 27.14], 'TCGA-DF-A2L0': [0, 25.89], 'TCGA-DI-A0WH': [1, 16.29], 'TCGA-DI-A1BU': [1, 39.26], 'TCGA-DI-A1BY': [1, 36.6], 'TCGA-DI-A1C3': [1, 24.28], 'TCGA-DI-A1NN': [1, 35.35], 'TCGA-DI-A1NO': [0, 9.36], 'TCGA-DI-A2QT': [0, 12.39], 'TCGA-DI-A2QU': [0, 31.08], 'TCGA-DI-A2QY': [0, 110.02], 'TCGA-E6-A1LX': [1, 23.36], 'TCGA-E6-A1LZ': [1, 79.04], 'TCGA-E6-A2P8': [0, 2.37], 'TCGA-E6-A8L9': [1, 33.28], 'TCGA-EC-A1NJ': [1, 16.03], 'TCGA-EC-A1QX': [1, 7.36], 'TCGA-EC-A24G': [1, 16.79], 'TCGA-EO-A1Y5': [1, 10.91], 'TCGA-EO-A1Y7': [1, 49.11], 'TCGA-EO-A1Y8': [1, 37.68], 'TCGA-EO-A22R': [1, 61.7], 'TCGA-EO-A22S': [1, 61.5], 'TCGA-EO-A22T': [1, 66.85], 'TCGA-EO-A22U': [1, 46.22], 'TCGA-EO-A22X': [1, 57.56], 'TCGA-EO-A22Y': [1, 51.48], 'TCGA-EO-A2CG': [1, 51.38], 'TCGA-EO-A2CH': [0, 19.38], 'TCGA-EO-A3AS': [1, 34.36], 'TCGA-EO-A3AU': [1, 50.69], 'TCGA-EO-A3AV': [1, 35.12], 'TCGA-EO-A3AY': [1, 38.04], 'TCGA-EO-A3AZ': [1, 27.14], 'TCGA-EO-A3B0': [1, 46.39], 'TCGA-EO-A3B1': [1, 26.94], 'TCGA-EO-A3KU': [1, 22.24], 'TCGA-EO-A3KW': [1, 16.33], 'TCGA-EO-A3KX': [1, 38.44], 'TCGA-EO-A3L0': [1, 51.05], 'TCGA-EY-A1GC': [1, 54.11], 'TCGA-EY-A1GD': [1, 53.84], 'TCGA-EY-A1GE': [1, 24.34], 'TCGA-EY-A1GF': [1, 27.14], 'TCGA-EY-A1GH': [1, 23.32], 'TCGA-EY-A1GI': [1, 23.32], 'TCGA-EY-A1GK': [1, 22.77], 'TCGA-EY-A1GL': [1, 33.31], 'TCGA-EY-A1GM': [0, 32.69], 'TCGA-EY-A1GO': [1, 19.25], 'TCGA-EY-A1GP': [1, 18.82], 'TCGA-EY-A1GQ': [1, 17.87], 'TCGA-EY-A1GR': [1, 17.61], 'TCGA-EY-A1GS': [0, 22.01], 'TCGA-EY-A1GT': [1, 16.1], 'TCGA-EY-A1GU': [0, 32.75], 'TCGA-EY-A1GV': [1, 15.8], 'TCGA-EY-A1GW': [0, 11.07], 'TCGA-EY-A1GX': [0, 37.02], 'TCGA-EY-A1H0': [1, 19.32], 'TCGA-EY-A210': [1, 12.58], 'TCGA-EY-A212': [0, 10.18], 'TCGA-EY-A214': [1, 14.39], 'TCGA-EY-A215': [1, 18.86], 'TCGA-EY-A2OM': [1, 22.8], 'TCGA-EY-A2ON': [0, 20.04], 'TCGA-EY-A2OO': [1, 45.73], 'TCGA-EY-A2OP': [1, 31.01], 'TCGA-EY-A2OQ': [1, 29.07], 'TCGA-EY-A3L3': [1, 27.33], 'TCGA-EY-A3QX': [0, 32.49], 'TCGA-EY-A4KR': [0, 11.37], 'TCGA-EY-A547': [1, 17.9], 'TCGA-EY-A548': [1, 14.13], 'TCGA-EY-A549': [1, 19.88], 'TCGA-EY-A54A': [1, 14.68], 'TCGA-EY-A5W2': [1, 16.95], 'TCGA-EY-A72D': [1, 5.88], 'TCGA-FI-A2CX': [1, 66.72], 'TCGA-FI-A2CY': [1, 68.33], 'TCGA-FI-A2D0': [1, 39.85], 'TCGA-FI-A2D2': [0, 77.27], 'TCGA-FI-A2D4': [0, 7.98], 'TCGA-FI-A2D5': [0, 13.83], 'TCGA-FI-A2D6': [0, 25.2], 'TCGA-FI-A2EU': [1, 96.62], 'TCGA-FI-A2EW': [1, 58.97], 'TCGA-FI-A2EX': [1, 9.33], 'TCGA-FI-A2EY': [0, 28.91], 'TCGA-FI-A2F4': [1, 73.26], 'TCGA-FI-A2F8': [1, 30.65], 'TCGA-FI-A2F9': [1, 59.23], 'TCGA-FI-A3PV': [0, 41.03], 'TCGA-FI-A3PX': [1, 78.32], 'TCGA-H5-A2HR': [1, 1.74], 'TCGA-JU-AAVI': [0, 17.74], 'TCGA-K6-A3WQ': [0, 14.03], 'TCGA-PG-A5BC': [1, 23.23], 'TCGA-PG-A6IB': [1, 21.29], 'TCGA-PG-A7D5': [1, 38.67], 'TCGA-PG-A914': [1, 22.57], 'TCGA-PG-A916': [1, 17.15], 'TCGA-PG-A917': [1, 6.96], 'TCGA-QF-A5YS': [1, 22.63], 'TCGA-QF-A5YT': [1, 39.91], 'TCGA-QS-A5YQ': [1, 24.93], 'TCGA-QS-A5YR': [1, 23.62], 'TCGA-QS-A744': [1, 14.82], 'TCGA-QS-A8F1': [0, 4.43], 'TCGA-SJ-A6ZI': [1, 20.73], 'TCGA-SJ-A6ZJ': [1, 18.27], 'TCGA-SL-A6J9': [1, 0.07], 'TCGA-SL-A6JA': [1, 0.23]}\n"
     ]
    }
   ],
   "source": [
    "##'''\n",
    "# censorship status and observed time .\n",
    "# {'TCGA-LN-A49R': [0, 13.371663244353183],\n",
    "#  'TCGA-2H-A9GQ': [1, 4.205338809034908],\n",
    "#  'TCGA-LN-A4A3': [0, 12.747433264887063],\n",
    "#  ...\n",
    "#  }\n",
    "# '''\n",
    "###获取时间和状态\n",
    "import csv\n",
    "import pickle\n",
    "# CSV文件路径\n",
    "csv_file = 'E:\\\\multi-mode\\\\datasets_csv\\\\ucec\\\\tcga_ucec_cnv.csv'\n",
    "\n",
    "# 存储数据的字典\n",
    "data_dict = {}\n",
    "# 读取CSV文件并将其转换为字典\n",
    "with open(csv_file, 'r') as f:\n",
    "    reader = csv.DictReader(f)\n",
    "    for row in reader:\n",
    "        # 提取case_id、survival_months和censorship列的数据\n",
    "        case_id = row['case_id']\n",
    "        survival_months = float(row['survival_months'])\n",
    "        censorship = int(row['censorship'])\n",
    "        # 将数据保存到字典中\n",
    "        data_dict[case_id] = [censorship, survival_months]\n",
    "\n",
    "a = data_dict\n",
    "print(data_dict)\n",
    "# 保存列表为.pkl文件\n",
    "output_file = './ucec/ucec_sur_and_time.pkl'\n",
    "with open(output_file, 'wb') as f:\n",
    "    pickle.dump(data_dict, f)"
   ],
   "metadata": {
    "collapsed": false,
    "ExecuteTime": {
     "start_time": "2023-12-18T23:25:12.674777Z",
     "end_time": "2023-12-18T23:25:12.725632Z"
    }
   }
  },
  {
   "cell_type": "code",
   "execution_count": 5,
   "outputs": [
    {
     "name": "stdout",
     "output_type": "stream",
     "text": [
      "{'TCGA-3C-AALI': [1, 131.57], 'TCGA-3C-AALJ': [1, 48.42], 'TCGA-3C-AALK': [1, 47.57], 'TCGA-4H-AAAK': [1, 11.43], 'TCGA-5L-AAT0': [1, 48.52], 'TCGA-5L-AAT1': [1, 48.32], 'TCGA-5T-A9QA': [1, 9.95], 'TCGA-A1-A0SB': [1, 8.51], 'TCGA-A1-A0SD': [1, 14.36], 'TCGA-A1-A0SE': [1, 43.4], 'TCGA-A1-A0SF': [1, 48.06], 'TCGA-A1-A0SH': [1, 47.21], 'TCGA-A1-A0SI': [1, 20.86], 'TCGA-A1-A0SJ': [1, 13.67], 'TCGA-A1-A0SK': [0, 31.77], 'TCGA-A1-A0SM': [1, 7.95], 'TCGA-A1-A0SN': [1, 39.29], 'TCGA-A1-A0SP': [1, 19.19], 'TCGA-A1-A0SQ': [1, 18.2], 'TCGA-A2-A04N': [1, 143.04], 'TCGA-A2-A04P': [0, 18.0], 'TCGA-A2-A04Q': [1, 78.35], 'TCGA-A2-A04R': [1, 121.85], 'TCGA-A2-A04T': [1, 73.78], 'TCGA-A2-A04U': [1, 87.19], 'TCGA-A2-A04V': [0, 63.07], 'TCGA-A2-A04W': [1, 101.91], 'TCGA-A2-A04X': [1, 55.39], 'TCGA-A2-A04Y': [1, 36.1], 'TCGA-A2-A0CK': [1, 136.63], 'TCGA-A2-A0CL': [1, 99.05], 'TCGA-A2-A0CM': [0, 24.77], 'TCGA-A2-A0CP': [1, 92.41], 'TCGA-A2-A0CQ': [1, 88.53], 'TCGA-A2-A0CR': [1, 107.85], 'TCGA-A2-A0CS': [0, 77.14], 'TCGA-A2-A0CT': [1, 75.2], 'TCGA-A2-A0CU': [0, 5.19], 'TCGA-A2-A0CV': [1, 98.92], 'TCGA-A2-A0CW': [1, 107.85], 'TCGA-A2-A0CX': [1, 56.77], 'TCGA-A2-A0D0': [1, 67.28], 'TCGA-A2-A0D3': [1, 61.53], 'TCGA-A2-A0D4': [1, 25.2], 'TCGA-A2-A0EM': [1, 101.64], 'TCGA-A2-A0EN': [1, 134.3], 'TCGA-A2-A0EO': [1, 80.22], 'TCGA-A2-A0EP': [1, 118.36], 'TCGA-A2-A0EQ': [1, 79.7], 'TCGA-A2-A0ER': [1, 74.34], 'TCGA-A2-A0ES': [1, 71.94], 'TCGA-A2-A0ET': [1, 35.02], 'TCGA-A2-A0EU': [1, 34.26], 'TCGA-A2-A0EV': [1, 31.8], 'TCGA-A2-A0EW': [0, 61.89], 'TCGA-A2-A0EX': [1, 24.7], 'TCGA-A2-A0EY': [1, 63.24], 'TCGA-A2-A0ST': [1, 99.11], 'TCGA-A2-A0SU': [1, 54.6], 'TCGA-A2-A0SV': [0, 27.1], 'TCGA-A2-A0SW': [0, 44.84], 'TCGA-A2-A0SX': [1, 50.39], 'TCGA-A2-A0SY': [1, 44.25], 'TCGA-A2-A0T0': [1, 17.51], 'TCGA-A2-A0T1': [1, 17.12], 'TCGA-A2-A0T2': [0, 8.38], 'TCGA-A2-A0T3': [1, 49.8], 'TCGA-A2-A0T4': [1, 20.5], 'TCGA-A2-A0T5': [1, 17.44], 'TCGA-A2-A0T6': [1, 18.89], 'TCGA-A2-A0T7': [1, 20.73], 'TCGA-A2-A0YC': [1, 32.52], 'TCGA-A2-A0YD': [1, 25.26], 'TCGA-A2-A0YE': [1, 18.2], 'TCGA-A2-A0YF': [1, 50.43], 'TCGA-A2-A0YG': [1, 21.88], 'TCGA-A2-A0YH': [1, 21.65], 'TCGA-A2-A0YI': [1, 49.44], 'TCGA-A2-A0YJ': [1, 18.59], 'TCGA-A2-A0YK': [1, 19.32], 'TCGA-A2-A0YL': [1, 48.42], 'TCGA-A2-A0YM': [1, 31.7], 'TCGA-A2-A0YT': [0, 23.75], 'TCGA-A2-A1FV': [1, 23.46], 'TCGA-A2-A1FW': [1, 17.35], 'TCGA-A2-A1FX': [1, 60.68], 'TCGA-A2-A1FZ': [1, 22.44], 'TCGA-A2-A1G0': [1, 20.24], 'TCGA-A2-A1G1': [1, 19.19], 'TCGA-A2-A1G4': [1, 19.55], 'TCGA-A2-A1G6': [1, 16.46], 'TCGA-A2-A259': [1, 52.43], 'TCGA-A2-A25A': [1, 107.62], 'TCGA-A2-A25B': [1, 42.41], 'TCGA-A2-A25C': [1, 17.18], 'TCGA-A2-A25D': [1, 18.13], 'TCGA-A2-A25E': [1, 105.26], 'TCGA-A2-A25F': [1, 10.58], 'TCGA-A2-A3KD': [1, 39.62], 'TCGA-A2-A3XT': [1, 91.0], 'TCGA-A2-A3XU': [0, 29.96], 'TCGA-A2-A3XV': [1, 32.72], 'TCGA-A2-A3XW': [1, 56.24], 'TCGA-A2-A3XX': [0, 47.27], 'TCGA-A2-A3XZ': [1, 50.33], 'TCGA-A2-A3Y0': [1, 50.79], 'TCGA-A2-A4S1': [1, 26.94], 'TCGA-A2-A4S2': [1, 21.12], 'TCGA-A2-A4S3': [1, 21.88], 'TCGA-A7-A0CD': [1, 38.27], 'TCGA-A7-A0CE': [1, 35.28], 'TCGA-A7-A0CG': [1, 34.26], 'TCGA-A7-A0CH': [1, 35.45], 'TCGA-A7-A0CJ': [1, 30.58], 'TCGA-A7-A0D9': [1, 37.42], 'TCGA-A7-A0DA': [1, 35.64], 'TCGA-A7-A0DB': [1, 33.08], 'TCGA-A7-A13D': [1, 31.7], 'TCGA-A7-A13E': [0, 20.17], 'TCGA-A7-A13F': [1, 25.13], 'TCGA-A7-A13G': [1, 23.59], 'TCGA-A7-A26E': [1, 31.34], 'TCGA-A7-A26F': [1, 24.24], 'TCGA-A7-A26G': [1, 23.72], 'TCGA-A7-A26H': [1, 23.78], 'TCGA-A7-A26I': [1, 21.71], 'TCGA-A7-A26J': [1, 20.6], 'TCGA-A7-A2KD': [1, 22.31], 'TCGA-A7-A3RF': [1, 13.4], 'TCGA-A7-A425': [1, 14.68], 'TCGA-A7-A4SD': [1, 14.49], 'TCGA-A7-A4SE': [1, 21.16], 'TCGA-A7-A56D': [1, 14.72], 'TCGA-A7-A5ZV': [1, 12.09], 'TCGA-A7-A5ZW': [1, 10.71], 'TCGA-A7-A5ZX': [1, 11.04], 'TCGA-A7-A6VV': [1, 10.28], 'TCGA-A7-A6VW': [1, 9.36], 'TCGA-A7-A6VX': [1, 10.41], 'TCGA-A7-A6VY': [1, 8.74], 'TCGA-A8-A06O': [1, 13.01], 'TCGA-A8-A06P': [1, 13.01], 'TCGA-A8-A06Q': [1, 1.02], 'TCGA-A8-A06R': [1, 17.97], 'TCGA-A8-A06T': [1, 53.02], 'TCGA-A8-A06U': [0, 29.01], 'TCGA-A8-A06X': [0, 30.98], 'TCGA-A8-A06Y': [1, 25.99], 'TCGA-A8-A06Z': [1, 1.02], 'TCGA-A8-A075': [1, 17.02], 'TCGA-A8-A076': [1, 53.94], 'TCGA-A8-A079': [1, 9.0], 'TCGA-A8-A07B': [1, 42.97], 'TCGA-A8-A07E': [1, 19.97], 'TCGA-A8-A07F': [1, 18.96], 'TCGA-A8-A07G': [1, 18.96], 'TCGA-A8-A07I': [1, 13.99], 'TCGA-A8-A07J': [1, 11.99], 'TCGA-A8-A07L': [1, 32.03], 'TCGA-A8-A07O': [1, 9.99], 'TCGA-A8-A07P': [1, 10.97], 'TCGA-A8-A07U': [1, 24.97], 'TCGA-A8-A07W': [1, 9.99], 'TCGA-A8-A07Z': [1, 45.04], 'TCGA-A8-A082': [1, 18.04], 'TCGA-A8-A084': [1, 15.05], 'TCGA-A8-A085': [1, 36.93], 'TCGA-A8-A086': [1, 13.01], 'TCGA-A8-A08A': [1, 0.99], 'TCGA-A8-A08B': [1, 37.98], 'TCGA-A8-A08F': [1, 32.98], 'TCGA-A8-A08G': [1, 19.94], 'TCGA-A8-A08I': [1, 11.99], 'TCGA-A8-A08J': [0, 37.02], 'TCGA-A8-A08L': [0, 9.99], 'TCGA-A8-A08O': [1, 30.98], 'TCGA-A8-A08P': [1, 30.98], 'TCGA-A8-A08R': [1, 0.99], 'TCGA-A8-A08S': [1, 32.98], 'TCGA-A8-A08T': [0, 111.99], 'TCGA-A8-A08X': [1, 42.97], 'TCGA-A8-A08Z': [1, 39.98], 'TCGA-A8-A091': [1, 32.98], 'TCGA-A8-A092': [1, 30.95], 'TCGA-A8-A093': [1, 17.94], 'TCGA-A8-A095': [1, 41.95], 'TCGA-A8-A097': [1, 11.99], 'TCGA-A8-A099': [1, 9.99], 'TCGA-A8-A09A': [1, 9.99], 'TCGA-A8-A09B': [1, 11.99], 'TCGA-A8-A09C': [1, 1.02], 'TCGA-A8-A09D': [1, 50.0], 'TCGA-A8-A09E': [1, 49.01], 'TCGA-A8-A09I': [1, 45.04], 'TCGA-A8-A09K': [1, 29.96], 'TCGA-A8-A09M': [1, 33.05], 'TCGA-A8-A09N': [1, 1.02], 'TCGA-A8-A09Q': [1, 25.0], 'TCGA-A8-A09R': [1, 8.97], 'TCGA-A8-A09T': [1, 19.02], 'TCGA-A8-A09V': [1, 15.01], 'TCGA-A8-A09W': [1, 0.99], 'TCGA-A8-A09X': [0, 13.99], 'TCGA-A8-A0A1': [1, 11.99], 'TCGA-A8-A0A2': [1, 19.02], 'TCGA-A8-A0A4': [1, 13.01], 'TCGA-A8-A0A7': [1, 0.99], 'TCGA-A8-A0A9': [1, 27.0], 'TCGA-A8-A0AB': [1, 17.02], 'TCGA-A8-A0AD': [1, 38.01], 'TCGA-AC-A23C': [1, 19.22], 'TCGA-AC-A23E': [1, 22.93], 'TCGA-AC-A23H': [0, 5.72], 'TCGA-AC-A2B8': [1, 22.24], 'TCGA-AC-A2BK': [1, 73.0], 'TCGA-AC-A2BM': [1, 99.28], 'TCGA-AC-A2FB': [1, 40.54], 'TCGA-AC-A2FF': [1, 90.64], 'TCGA-AC-A2FG': [1, 60.87], 'TCGA-AC-A2FK': [1, 87.06], 'TCGA-AC-A2FO': [1, 74.08], 'TCGA-AC-A2QH': [1, 33.02], 'TCGA-AC-A3HN': [1, 16.29], 'TCGA-AC-A3OD': [1, 14.82], 'TCGA-AC-A3QP': [1, 22.17], 'TCGA-AC-A3QQ': [1, 24.11], 'TCGA-AC-A3W5': [1, 16.56], 'TCGA-AC-A3YI': [1, 23.23], 'TCGA-AC-A3YJ': [1, 24.77], 'TCGA-AC-A4ZE': [1, 29.24], 'TCGA-AC-A5EH': [1, 16.79], 'TCGA-AC-A5XS': [1, 19.32], 'TCGA-AC-A5XU': [1, 14.95], 'TCGA-AC-A62V': [0, 11.43], 'TCGA-AC-A62X': [1, 13.7], 'TCGA-AC-A62Y': [1, 17.41], 'TCGA-AC-A6IV': [1, 18.66], 'TCGA-AC-A6IW': [1, 13.57], 'TCGA-AC-A6IX': [1, 12.25], 'TCGA-AC-A6NO': [1, 1.68], 'TCGA-AC-A7VB': [1, 8.21], 'TCGA-AC-A7VC': [1, 0.03], 'TCGA-AC-A8OP': [1, 20.17], 'TCGA-AC-A8OQ': [1, 1.12], 'TCGA-AC-A8OR': [1, 1.31], 'TCGA-AC-A8OS': [1, 2.3], 'TCGA-AN-A03Y': [1, 0.33], 'TCGA-AN-A041': [1, 0.23], 'TCGA-AN-A046': [1, 0.33], 'TCGA-AN-A0AJ': [1, 9.95], 'TCGA-AN-A0AK': [1, 7.36], 'TCGA-AN-A0AL': [1, 7.46], 'TCGA-AN-A0AM': [1, 0.16], 'TCGA-AN-A0AR': [1, 0.33], 'TCGA-AN-A0AS': [1, 0.33], 'TCGA-AN-A0AT': [1, 0.33], 'TCGA-AN-A0FD': [1, 6.44], 'TCGA-AN-A0FF': [1, 5.65], 'TCGA-AN-A0FJ': [1, 7.95], 'TCGA-AN-A0FK': [1, 7.0], 'TCGA-AN-A0FL': [1, 7.59], 'TCGA-AN-A0FN': [1, 7.16], 'TCGA-AN-A0FS': [1, 6.9], 'TCGA-AN-A0FT': [1, 7.03], 'TCGA-AN-A0FV': [1, 0.33], 'TCGA-AN-A0FW': [1, 0.36], 'TCGA-AN-A0FX': [1, 0.33], 'TCGA-AN-A0FY': [1, 0.33], 'TCGA-AN-A0FZ': [1, 0.33], 'TCGA-AN-A0XL': [1, 5.35], 'TCGA-AN-A0XN': [1, 0.33], 'TCGA-AN-A0XO': [1, 12.32], 'TCGA-AN-A0XP': [1, 0.3], 'TCGA-AN-A0XS': [1, 0.33], 'TCGA-AN-A0XT': [1, 0.33], 'TCGA-AN-A0XU': [1, 0.33], 'TCGA-AN-A0XW': [1, 5.58], 'TCGA-AO-A03L': [1, 80.22], 'TCGA-AO-A03M': [1, 61.3], 'TCGA-AO-A03N': [1, 66.72], 'TCGA-AO-A03O': [0, 81.57], 'TCGA-AO-A03P': [0, 95.63], 'TCGA-AO-A03R': [1, 68.69], 'TCGA-AO-A03T': [1, 69.78], 'TCGA-AO-A03U': [0, 58.9], 'TCGA-AO-A03V': [1, 44.38], 'TCGA-AO-A0J2': [1, 32.75], 'TCGA-AO-A0J3': [1, 21.39], 'TCGA-AO-A0J4': [1, 52.14], 'TCGA-AO-A0J5': [0, 26.02], 'TCGA-AO-A0J6': [1, 37.45], 'TCGA-AO-A0J7': [1, 20.3], 'TCGA-AO-A0J8': [1, 22.34], 'TCGA-AO-A0J9': [1, 52.99], 'TCGA-AO-A0JA': [1, 21.52], 'TCGA-AO-A0JB': [1, 50.66], 'TCGA-AO-A0JC': [1, 50.82], 'TCGA-AO-A0JD': [1, 71.94], 'TCGA-AO-A0JE': [1, 76.71], 'TCGA-AO-A0JF': [1, 65.05], 'TCGA-AO-A0JG': [1, 26.22], 'TCGA-AO-A0JI': [1, 50.2], 'TCGA-AO-A0JJ': [1, 61.99], 'TCGA-AO-A0JM': [1, 71.75], 'TCGA-AO-A124': [1, 115.18], 'TCGA-AO-A125': [1, 113.53], 'TCGA-AO-A126': [1, 108.64], 'TCGA-AO-A128': [1, 106.7], 'TCGA-AO-A129': [1, 107.95], 'TCGA-AO-A12A': [1, 102.23], 'TCGA-AO-A12B': [1, 98.19], 'TCGA-AO-A12D': [1, 82.62], 'TCGA-AO-A12E': [1, 70.37], 'TCGA-AO-A12F': [1, 60.51], 'TCGA-AO-A12G': [1, 53.84], 'TCGA-AO-A12H': [1, 40.54], 'TCGA-AO-A1KO': [1, 20.43], 'TCGA-AO-A1KP': [1, 97.01], 'TCGA-AO-A1KR': [1, 82.56], 'TCGA-AO-A1KS': [1, 11.5], 'TCGA-AO-A1KT': [1, 17.77], 'TCGA-AQ-A04H': [1, 24.77], 'TCGA-AQ-A04J': [1, 26.91], 'TCGA-AQ-A0Y5': [0, 5.65], 'TCGA-AQ-A54O': [1, 32.88], 'TCGA-AQ-A7U7': [0, 19.19], 'TCGA-AR-A0TP': [1, 140.44], 'TCGA-AR-A0TQ': [1, 98.26], 'TCGA-AR-A0TR': [0, 5.26], 'TCGA-AR-A0TS': [1, 84.03], 'TCGA-AR-A0TT': [1, 108.94], 'TCGA-AR-A0TV': [1, 75.16], 'TCGA-AR-A0TW': [1, 98.85], 'TCGA-AR-A0TX': [1, 64.78], 'TCGA-AR-A0TY': [0, 55.81], 'TCGA-AR-A0TZ': [0, 107.16], 'TCGA-AR-A0U0': [1, 65.31], 'TCGA-AR-A0U2': [0, 83.8], 'TCGA-AR-A0U3': [1, 134.03], 'TCGA-AR-A0U4': [1, 107.13], 'TCGA-AR-A1AH': [1, 125.07], 'TCGA-AR-A1AI': [1, 108.28], 'TCGA-AR-A1AJ': [1, 100.92], 'TCGA-AR-A1AK': [1, 103.78], 'TCGA-AR-A1AL': [1, 97.6], 'TCGA-AR-A1AN': [1, 95.93], 'TCGA-AR-A1AO': [1, 86.01], 'TCGA-AR-A1AP': [1, 93.82], 'TCGA-AR-A1AQ': [1, 99.24], 'TCGA-AR-A1AR': [0, 17.21], 'TCGA-AR-A1AS': [1, 37.78], 'TCGA-AR-A1AU': [1, 94.22], 'TCGA-AR-A1AV': [1, 61.24], 'TCGA-AR-A1AW': [1, 86.47], 'TCGA-AR-A1AX': [1, 86.37], 'TCGA-AR-A1AY': [1, 33.71], 'TCGA-AR-A24H': [1, 160.78], 'TCGA-AR-A24K': [1, 50.85], 'TCGA-AR-A24L': [0, 94.15], 'TCGA-AR-A24M': [1, 120.24], 'TCGA-AR-A24N': [1, 99.7], 'TCGA-AR-A24O': [1, 118.5], 'TCGA-AR-A24P': [1, 2.76], 'TCGA-AR-A24Q': [1, 104.2], 'TCGA-AR-A24R': [1, 112.68], 'TCGA-AR-A24S': [1, 97.77], 'TCGA-AR-A24T': [1, 105.19], 'TCGA-AR-A24U': [1, 102.76], 'TCGA-AR-A24V': [1, 105.22], 'TCGA-AR-A24W': [1, 50.92], 'TCGA-AR-A24X': [1, 98.69], 'TCGA-AR-A24Z': [1, 98.59], 'TCGA-AR-A250': [1, 88.93], 'TCGA-AR-A251': [1, 99.54], 'TCGA-AR-A252': [1, 93.23], 'TCGA-AR-A254': [1, 85.58], 'TCGA-AR-A255': [1, 70.99], 'TCGA-AR-A256': [0, 93.76], 'TCGA-AR-A2LE': [1, 166.29], 'TCGA-AR-A2LH': [0, 20.24], 'TCGA-AR-A2LK': [0, 54.17], 'TCGA-AR-A2LL': [1, 66.1], 'TCGA-AR-A2LM': [1, 63.57], 'TCGA-AR-A2LN': [1, 38.14], 'TCGA-AR-A2LO': [1, 39.36], 'TCGA-AR-A2LQ': [1, 40.51], 'TCGA-AR-A2LR': [1, 57.23], 'TCGA-AR-A5QM': [1, 73.29], 'TCGA-AR-A5QN': [1, 33.28], 'TCGA-AR-A5QP': [1, 38.93], 'TCGA-AR-A5QQ': [0, 10.58], 'TCGA-B6-A0I1': [0, 77.56], 'TCGA-B6-A0I2': [1, 143.27], 'TCGA-B6-A0I5': [1, 281.08], 'TCGA-B6-A0I9': [0, 11.89], 'TCGA-B6-A0IA': [1, 275.66], 'TCGA-B6-A0IB': [0, 129.47], 'TCGA-B6-A0IC': [0, 50.66], 'TCGA-B6-A0IE': [0, 65.47], 'TCGA-B6-A0IG': [0, 146.39], 'TCGA-B6-A0IH': [0, 112.29], 'TCGA-B6-A0IJ': [1, 233.44], 'TCGA-B6-A0IK': [0, 18.76], 'TCGA-B6-A0IM': [0, 127.23], 'TCGA-B6-A0IN': [0, 84.53], 'TCGA-B6-A0IO': [1, 165.64], 'TCGA-B6-A0IP': [0, 128.98], 'TCGA-B6-A0IQ': [1, 140.77], 'TCGA-B6-A0RE': [1, 255.49], 'TCGA-B6-A0RG': [1, 68.4], 'TCGA-B6-A0RH': [0, 212.09], 'TCGA-B6-A0RI': [1, 234.1], 'TCGA-B6-A0RL': [0, 81.11], 'TCGA-B6-A0RM': [0, 77.96], 'TCGA-B6-A0RN': [1, 263.07], 'TCGA-B6-A0RO': [1, 161.93], 'TCGA-B6-A0RP': [0, 102.69], 'TCGA-B6-A0RQ': [0, 140.18], 'TCGA-B6-A0RS': [0, 100.62], 'TCGA-B6-A0RT': [1, 89.39], 'TCGA-B6-A0RU': [1, 282.69], 'TCGA-B6-A0RV': [1, 169.38], 'TCGA-B6-A0WS': [0, 97.4], 'TCGA-B6-A0WT': [1, 188.53], 'TCGA-B6-A0WV': [0, 79.4], 'TCGA-B6-A0WW': [0, 18.33], 'TCGA-B6-A0WX': [0, 20.99], 'TCGA-B6-A0WY': [0, 113.7], 'TCGA-B6-A0WZ': [1, 206.7], 'TCGA-B6-A0X0': [0, 129.6], 'TCGA-B6-A0X1': [0, 244.91], 'TCGA-B6-A0X4': [0, 28.25], 'TCGA-B6-A0X5': [0, 68.89], 'TCGA-B6-A0X7': [0, 58.51], 'TCGA-B6-A1KC': [1, 43.56], 'TCGA-B6-A1KF': [1, 101.45], 'TCGA-B6-A1KI': [1, 73.46], 'TCGA-B6-A1KN': [1, 139.06], 'TCGA-B6-A2IU': [1, 170.04], 'TCGA-BH-A0AU': [1, 62.88], 'TCGA-BH-A0AV': [1, 59.79], 'TCGA-BH-A0AW': [1, 20.43], 'TCGA-BH-A0AY': [1, 25.53], 'TCGA-BH-A0AZ': [1, 63.04], 'TCGA-BH-A0B0': [1, 81.37], 'TCGA-BH-A0B3': [1, 39.52], 'TCGA-BH-A0B4': [1, 39.13], 'TCGA-BH-A0B5': [1, 70.17], 'TCGA-BH-A0B6': [1, 81.57], 'TCGA-BH-A0B7': [1, 84.07], 'TCGA-BH-A0B9': [1, 51.64], 'TCGA-BH-A0BA': [1, 37.19], 'TCGA-BH-A0BC': [1, 32.0], 'TCGA-BH-A0BD': [1, 18.2], 'TCGA-BH-A0BF': [0, 43.5], 'TCGA-BH-A0BG': [1, 61.47], 'TCGA-BH-A0BJ': [1, 21.68], 'TCGA-BH-A0BL': [1, 74.84], 'TCGA-BH-A0BM': [1, 61.63], 'TCGA-BH-A0BO': [1, 72.17], 'TCGA-BH-A0BP': [0, 75.43], 'TCGA-BH-A0BQ': [1, 74.08], 'TCGA-BH-A0BR': [1, 76.54], 'TCGA-BH-A0BS': [1, 85.81], 'TCGA-BH-A0BT': [1, 77.69], 'TCGA-BH-A0BV': [1, 49.9], 'TCGA-BH-A0BW': [1, 77.89], 'TCGA-BH-A0BZ': [1, 74.08], 'TCGA-BH-A0C0': [1, 41.72], 'TCGA-BH-A0C1': [0, 46.35], 'TCGA-BH-A0C3': [1, 88.99], 'TCGA-BH-A0C7': [1, 90.9], 'TCGA-BH-A0DD': [1, 81.67], 'TCGA-BH-A0DE': [1, 77.92], 'TCGA-BH-A0DG': [1, 67.05], 'TCGA-BH-A0DH': [1, 37.98], 'TCGA-BH-A0DI': [1, 29.96], 'TCGA-BH-A0DK': [1, 13.9], 'TCGA-BH-A0DL': [1, 78.22], 'TCGA-BH-A0DO': [1, 54.01], 'TCGA-BH-A0DP': [1, 15.64], 'TCGA-BH-A0DQ': [1, 3.22], 'TCGA-BH-A0DS': [1, 2.56], 'TCGA-BH-A0DT': [1, 78.94], 'TCGA-BH-A0DV': [1, 67.81], 'TCGA-BH-A0DX': [1, 70.83], 'TCGA-BH-A0DZ': [1, 16.26], 'TCGA-BH-A0E0': [1, 4.4], 'TCGA-BH-A0E1': [1, 15.67], 'TCGA-BH-A0E2': [1, 14.29], 'TCGA-BH-A0E6': [1, 9.63], 'TCGA-BH-A0E7': [1, 44.78], 'TCGA-BH-A0E9': [1, 81.77], 'TCGA-BH-A0EA': [0, 32.56], 'TCGA-BH-A0EB': [1, 24.47], 'TCGA-BH-A0EE': [1, 30.98], 'TCGA-BH-A0EI': [1, 63.27], 'TCGA-BH-A0GY': [1, 30.32], 'TCGA-BH-A0GZ': [1, 10.78], 'TCGA-BH-A0H0': [1, 15.14], 'TCGA-BH-A0H3': [1, 63.34], 'TCGA-BH-A0H5': [1, 53.22], 'TCGA-BH-A0H6': [1, 24.54], 'TCGA-BH-A0H7': [1, 23.06], 'TCGA-BH-A0H9': [1, 40.97], 'TCGA-BH-A0HA': [1, 52.92], 'TCGA-BH-A0HB': [1, 26.48], 'TCGA-BH-A0HI': [1, 20.37], 'TCGA-BH-A0HK': [1, 5.85], 'TCGA-BH-A0HO': [1, 2.5], 'TCGA-BH-A0HP': [1, 13.6], 'TCGA-BH-A0HQ': [1, 36.83], 'TCGA-BH-A0HU': [1, 12.88], 'TCGA-BH-A0HW': [1, 51.28], 'TCGA-BH-A0HX': [1, 27.23], 'TCGA-BH-A0HY': [1, 50.76], 'TCGA-BH-A0RX': [1, 5.58], 'TCGA-BH-A0W3': [1, 23.92], 'TCGA-BH-A0W4': [1, 24.93], 'TCGA-BH-A0W5': [1, 42.31], 'TCGA-BH-A0W7': [1, 44.78], 'TCGA-BH-A0WA': [1, 23.03], 'TCGA-BH-A18F': [1, 32.88], 'TCGA-BH-A18G': [1, 4.89], 'TCGA-BH-A18H': [1, 21.42], 'TCGA-BH-A18I': [1, 35.91], 'TCGA-BH-A18J': [0, 20.11], 'TCGA-BH-A18L': [0, 26.64], 'TCGA-BH-A18M': [0, 72.5], 'TCGA-BH-A18N': [0, 37.71], 'TCGA-BH-A18P': [0, 30.26], 'TCGA-BH-A18Q': [0, 55.58], 'TCGA-BH-A18R': [0, 37.52], 'TCGA-BH-A18S': [0, 66.0], 'TCGA-BH-A18T': [0, 7.36], 'TCGA-BH-A18U': [0, 51.35], 'TCGA-BH-A18V': [0, 51.12], 'TCGA-BH-A1EN': [0, 69.88], 'TCGA-BH-A1EO': [0, 91.92], 'TCGA-BH-A1ET': [0, 82.79], 'TCGA-BH-A1EU': [0, 42.25], 'TCGA-BH-A1EV': [0, 11.99], 'TCGA-BH-A1EW': [0, 55.65], 'TCGA-BH-A1EX': [0, 49.54], 'TCGA-BH-A1EY': [0, 17.67], 'TCGA-BH-A1F0': [0, 25.79], 'TCGA-BH-A1F2': [0, 31.5], 'TCGA-BH-A1F5': [0, 89.09], 'TCGA-BH-A1F6': [0, 97.4], 'TCGA-BH-A1F8': [0, 25.07], 'TCGA-BH-A1FC': [0, 114.06], 'TCGA-BH-A1FE': [0, 74.67], 'TCGA-BH-A1FG': [0, 122.73], 'TCGA-BH-A1FH': [0, 33.97], 'TCGA-BH-A1FJ': [0, 63.3], 'TCGA-BH-A1FL': [0, 54.96], 'TCGA-BH-A1FM': [0, 45.6], 'TCGA-BH-A1FN': [0, 72.01], 'TCGA-BH-A1FR': [0, 53.94], 'TCGA-BH-A1FU': [0, 55.45], 'TCGA-BH-A201': [1, 28.12], 'TCGA-BH-A202': [1, 26.12], 'TCGA-BH-A203': [0, 38.57], 'TCGA-BH-A204': [0, 83.25], 'TCGA-BH-A208': [0, 57.79], 'TCGA-BH-A209': [0, 130.06], 'TCGA-BH-A28Q': [1, 36.76], 'TCGA-BH-A2L8': [1, 20.11], 'TCGA-BH-A42U': [1, 110.51], 'TCGA-BH-A42V': [1, 20.86], 'TCGA-BH-A5IZ': [1, 18.63], 'TCGA-BH-A5J0': [1, 23.49], 'TCGA-C8-A12L': [1, 11.93], 'TCGA-C8-A12M': [1, 11.76], 'TCGA-C8-A12N': [1, 11.76], 'TCGA-C8-A12O': [1, 12.65], 'TCGA-C8-A12P': [1, 11.76], 'TCGA-C8-A12Q': [0, 12.65], 'TCGA-C8-A12U': [1, 12.65], 'TCGA-C8-A12V': [1, 12.65], 'TCGA-C8-A12W': [1, 12.65], 'TCGA-C8-A12X': [1, 12.65], 'TCGA-C8-A12Y': [1, 48.49], 'TCGA-C8-A12Z': [1, 12.55], 'TCGA-C8-A130': [1, 12.16], 'TCGA-C8-A131': [1, 13.5], 'TCGA-C8-A132': [1, 12.58], 'TCGA-C8-A134': [1, 12.58], 'TCGA-C8-A135': [1, 12.91], 'TCGA-C8-A137': [1, 12.45], 'TCGA-C8-A138': [1, 12.48], 'TCGA-C8-A1HE': [1, 12.32], 'TCGA-C8-A1HF': [1, 10.91], 'TCGA-C8-A1HG': [1, 11.33], 'TCGA-C8-A1HI': [1, 11.27], 'TCGA-C8-A1HJ': [1, 0.16], 'TCGA-C8-A1HK': [1, 12.02], 'TCGA-C8-A1HL': [1, 10.41], 'TCGA-C8-A1HM': [1, 12.32], 'TCGA-C8-A1HN': [1, 12.94], 'TCGA-C8-A1HO': [1, 12.32], 'TCGA-C8-A26V': [1, 20.24], 'TCGA-C8-A26W': [1, 12.52], 'TCGA-C8-A26X': [1, 12.35], 'TCGA-C8-A26Y': [1, 12.94], 'TCGA-C8-A26Z': [1, 15.44], 'TCGA-C8-A273': [1, 16.85], 'TCGA-C8-A274': [1, 16.69], 'TCGA-C8-A275': [1, 0.03], 'TCGA-C8-A278': [1, 9.76], 'TCGA-C8-A27A': [1, 24.54], 'TCGA-C8-A27B': [1, 14.42], 'TCGA-C8-A3M7': [0, 33.97], 'TCGA-C8-A3M8': [1, 12.94], 'TCGA-C8-A8HP': [1, 13.01], 'TCGA-C8-A8HQ': [1, 12.48], 'TCGA-C8-A8HR': [1, 13.4], 'TCGA-D8-A13Y': [1, 56.77], 'TCGA-D8-A13Z': [1, 20.86], 'TCGA-D8-A140': [1, 13.24], 'TCGA-D8-A141': [1, 20.57], 'TCGA-D8-A142': [1, 13.96], 'TCGA-D8-A143': [1, 14.16], 'TCGA-D8-A145': [1, 13.47], 'TCGA-D8-A146': [1, 21.12], 'TCGA-D8-A147': [1, 19.19], 'TCGA-D8-A1J8': [1, 14.16], 'TCGA-D8-A1J9': [1, 17.48], 'TCGA-D8-A1JA': [1, 16.49], 'TCGA-D8-A1JB': [1, 55.45], 'TCGA-D8-A1JC': [1, 15.77], 'TCGA-D8-A1JD': [1, 18.13], 'TCGA-D8-A1JE': [1, 18.89], 'TCGA-D8-A1JF': [1, 12.02], 'TCGA-D8-A1JG': [1, 52.96], 'TCGA-D8-A1JH': [1, 13.99], 'TCGA-D8-A1JI': [1, 18.96], 'TCGA-D8-A1JJ': [1, 20.07], 'TCGA-D8-A1JK': [1, 20.11], 'TCGA-D8-A1JL': [1, 20.07], 'TCGA-D8-A1JM': [1, 19.38], 'TCGA-D8-A1JN': [1, 20.37], 'TCGA-D8-A1JP': [1, 20.99], 'TCGA-D8-A1JS': [1, 12.19], 'TCGA-D8-A1JT': [1, 13.3], 'TCGA-D8-A1JU': [1, 14.68], 'TCGA-D8-A1X5': [1, 18.56], 'TCGA-D8-A1X6': [1, 17.77], 'TCGA-D8-A1X7': [1, 16.72], 'TCGA-D8-A1X8': [1, 25.72], 'TCGA-D8-A1X9': [1, 23.88], 'TCGA-D8-A1XA': [1, 27.56], 'TCGA-D8-A1XB': [1, 18.13], 'TCGA-D8-A1XC': [0, 12.39], 'TCGA-D8-A1XF': [1, 15.21], 'TCGA-D8-A1XG': [1, 14.72], 'TCGA-D8-A1XJ': [1, 21.81], 'TCGA-D8-A1XK': [1, 14.49], 'TCGA-D8-A1XL': [1, 19.91], 'TCGA-D8-A1XM': [1, 17.67], 'TCGA-D8-A1XO': [1, 55.26], 'TCGA-D8-A1XQ': [1, 16.39], 'TCGA-D8-A1XR': [1, 15.83], 'TCGA-D8-A1XS': [1, 16.29], 'TCGA-D8-A1XT': [1, 16.62], 'TCGA-D8-A1XU': [1, 12.98], 'TCGA-D8-A1XV': [1, 15.14], 'TCGA-D8-A1XW': [1, 43.0], 'TCGA-D8-A1XY': [1, 16.52], 'TCGA-D8-A1XZ': [1, 15.31], 'TCGA-D8-A1Y0': [1, 15.51], 'TCGA-D8-A1Y1': [0, 9.92], 'TCGA-D8-A1Y2': [1, 14.22], 'TCGA-D8-A1Y3': [1, 14.13], 'TCGA-D8-A27E': [1, 17.41], 'TCGA-D8-A27F': [1, 16.03], 'TCGA-D8-A27G': [1, 13.44], 'TCGA-D8-A27H': [1, 13.04], 'TCGA-D8-A27I': [1, 14.42], 'TCGA-D8-A27K': [1, 48.0], 'TCGA-D8-A27L': [1, 16.39], 'TCGA-D8-A27M': [1, 13.47], 'TCGA-D8-A27N': [1, 17.05], 'TCGA-D8-A27P': [1, 1.61], 'TCGA-D8-A27R': [1, 10.09], 'TCGA-D8-A27T': [1, 13.07], 'TCGA-D8-A27V': [1, 12.52], 'TCGA-D8-A27W': [1, 12.25], 'TCGA-D8-A3Z6': [1, 18.5], 'TCGA-D8-A4Z1': [1, 21.65], 'TCGA-D8-A73U': [1, 16.16], 'TCGA-D8-A73W': [0, 12.65], 'TCGA-D8-A73X': [1, 25.2], 'TCGA-E2-A105': [1, 42.97], 'TCGA-E2-A107': [1, 34.4], 'TCGA-E2-A108': [1, 27.5], 'TCGA-E2-A109': [1, 46.55], 'TCGA-E2-A10A': [1, 40.37], 'TCGA-E2-A10B': [1, 37.48], 'TCGA-E2-A10C': [1, 40.08], 'TCGA-E2-A10F': [1, 28.84], 'TCGA-E2-A14N': [1, 47.11], 'TCGA-E2-A14O': [1, 44.65], 'TCGA-E2-A14P': [1, 40.93], 'TCGA-E2-A14Q': [1, 38.21], 'TCGA-E2-A14R': [1, 38.57], 'TCGA-E2-A14T': [1, 75.92], 'TCGA-E2-A14V': [1, 34.23], 'TCGA-E2-A14W': [1, 32.0], 'TCGA-E2-A14X': [1, 31.93], 'TCGA-E2-A14Y': [1, 69.28], 'TCGA-E2-A14Z': [0, 18.5], 'TCGA-E2-A150': [1, 63.57], 'TCGA-E2-A152': [1, 69.91], 'TCGA-E2-A153': [1, 23.23], 'TCGA-E2-A154': [1, 19.42], 'TCGA-E2-A155': [1, 21.02], 'TCGA-E2-A156': [1, 23.85], 'TCGA-E2-A158': [1, 14.78], 'TCGA-E2-A159': [1, 25.03], 'TCGA-E2-A15A': [1, 23.32], 'TCGA-E2-A15C': [1, 22.8], 'TCGA-E2-A15D': [1, 17.28], 'TCGA-E2-A15E': [1, 20.7], 'TCGA-E2-A15F': [1, 21.62], 'TCGA-E2-A15G': [1, 18.2], 'TCGA-E2-A15H': [1, 12.91], 'TCGA-E2-A15I': [1, 55.58], 'TCGA-E2-A15J': [1, 53.88], 'TCGA-E2-A15K': [1, 9.03], 'TCGA-E2-A15L': [1, 20.57], 'TCGA-E2-A15M': [0, 11.04], 'TCGA-E2-A15O': [1, 50.76], 'TCGA-E2-A15P': [1, 19.55], 'TCGA-E2-A15R': [1, 56.9], 'TCGA-E2-A15S': [1, 14.06], 'TCGA-E2-A15T': [1, 51.35], 'TCGA-E2-A1AZ': [1, 76.51], 'TCGA-E2-A1B0': [1, 53.58], 'TCGA-E2-A1B1': [1, 87.16], 'TCGA-E2-A1B4': [0, 32.98], 'TCGA-E2-A1B5': [1, 32.33], 'TCGA-E2-A1B6': [1, 28.48], 'TCGA-E2-A1BC': [1, 16.46], 'TCGA-E2-A1BD': [1, 37.22], 'TCGA-E2-A1IE': [1, 77.6], 'TCGA-E2-A1IF': [1, 37.39], 'TCGA-E2-A1IG': [1, 70.3], 'TCGA-E2-A1IH': [1, 33.71], 'TCGA-E2-A1II': [1, 33.67], 'TCGA-E2-A1IJ': [1, 28.42], 'TCGA-E2-A1IK': [1, 59.13], 'TCGA-E2-A1IL': [1, 3.88], 'TCGA-E2-A1IN': [1, 22.17], 'TCGA-E2-A1IO': [1, 60.94], 'TCGA-E2-A1IU': [1, 11.07], 'TCGA-E2-A1L6': [1, 54.14], 'TCGA-E2-A1L7': [1, 60.32], 'TCGA-E2-A1L8': [1, 73.59], 'TCGA-E2-A1L9': [1, 19.65], 'TCGA-E2-A1LA': [1, 24.57], 'TCGA-E2-A1LB': [1, 75.76], 'TCGA-E2-A1LG': [1, 50.03], 'TCGA-E2-A1LH': [1, 106.67], 'TCGA-E2-A1LI': [1, 102.53], 'TCGA-E2-A1LK': [0, 8.74], 'TCGA-E2-A1LL': [1, 43.0], 'TCGA-E2-A2P6': [1, 34.53], 'TCGA-E2-A56Z': [1, 8.28], 'TCGA-E2-A570': [1, 30.58], 'TCGA-E2-A573': [1, 34.89], 'TCGA-E2-A574': [1, 38.73], 'TCGA-E2-A576': [1, 34.26], 'TCGA-E2-A9RU': [1, 17.67], 'TCGA-E9-A1N3': [1, 34.79], 'TCGA-E9-A1N4': [1, 32.85], 'TCGA-E9-A1N5': [1, 36.79], 'TCGA-E9-A1N8': [1, 34.13], 'TCGA-E9-A1N9': [1, 36.17], 'TCGA-E9-A1NA': [1, 36.53], 'TCGA-E9-A1NC': [1, 39.52], 'TCGA-E9-A1ND': [1, 41.59], 'TCGA-E9-A1NE': [1, 35.74], 'TCGA-E9-A1NF': [0, 35.22], 'TCGA-E9-A1NG': [0, 25.82], 'TCGA-E9-A1NH': [1, 18.92], 'TCGA-E9-A1NI': [1, 9.86], 'TCGA-E9-A1QZ': [1, 24.8], 'TCGA-E9-A1R0': [1, 28.25], 'TCGA-E9-A1R2': [1, 34.92], 'TCGA-E9-A1R3': [1, 2.56], 'TCGA-E9-A1R4': [1, 6.11], 'TCGA-E9-A1R5': [1, 3.02], 'TCGA-E9-A1R6': [1, 11.14], 'TCGA-E9-A1R7': [1, 48.19], 'TCGA-E9-A1RA': [1, 44.97], 'TCGA-E9-A1RB': [0, 32.06], 'TCGA-E9-A1RC': [1, 40.21], 'TCGA-E9-A1RD': [1, 1.12], 'TCGA-E9-A1RE': [1, 46.62], 'TCGA-E9-A1RF': [1, 6.57], 'TCGA-E9-A1RG': [1, 21.25], 'TCGA-E9-A1RH': [1, 46.55], 'TCGA-E9-A1RI': [1, 47.6], 'TCGA-E9-A226': [0, 34.43], 'TCGA-E9-A227': [1, 32.03], 'TCGA-E9-A228': [1, 42.21], 'TCGA-E9-A229': [1, 37.71], 'TCGA-E9-A22A': [1, 39.06], 'TCGA-E9-A22B': [1, 38.34], 'TCGA-E9-A22D': [1, 41.0], 'TCGA-E9-A22E': [1, 41.69], 'TCGA-E9-A22G': [1, 40.7], 'TCGA-E9-A22H': [1, 40.47], 'TCGA-E9-A243': [1, 20.11], 'TCGA-E9-A244': [1, 0.69], 'TCGA-E9-A247': [1, 38.96], 'TCGA-E9-A248': [1, 1.94], 'TCGA-E9-A249': [1, 7.13], 'TCGA-E9-A24A': [1, 24.54], 'TCGA-E9-A295': [1, 12.32], 'TCGA-E9-A2JS': [0, 29.7], 'TCGA-E9-A2JT': [1, 9.46], 'TCGA-E9-A3HO': [1, 38.04], 'TCGA-E9-A3QA': [1, 30.16], 'TCGA-E9-A3X8': [1, 30.42], 'TCGA-E9-A54Y': [1, 23.82], 'TCGA-E9-A5FK': [1, 26.68], 'TCGA-E9-A5FL': [1, 0.79], 'TCGA-E9-A5UO': [1, 25.79], 'TCGA-E9-A6HE': [1, 27.83], 'TCGA-EW-A1IW': [1, 12.19], 'TCGA-EW-A1IX': [1, 39.68], 'TCGA-EW-A1IY': [1, 8.48], 'TCGA-EW-A1IZ': [1, 18.2], 'TCGA-EW-A1J1': [1, 18.89], 'TCGA-EW-A1J2': [1, 13.24], 'TCGA-EW-A1J3': [1, 16.56], 'TCGA-EW-A1J5': [1, 15.67], 'TCGA-EW-A1J6': [1, 28.75], 'TCGA-EW-A1OV': [1, 25.92], 'TCGA-EW-A1OX': [1, 29.93], 'TCGA-EW-A1OY': [1, 29.83], 'TCGA-EW-A1OZ': [1, 40.37], 'TCGA-EW-A1P0': [1, 41.1], 'TCGA-EW-A1P1': [1, 39.75], 'TCGA-EW-A1P3': [1, 52.92], 'TCGA-EW-A1P4': [1, 29.8], 'TCGA-EW-A1P5': [1, 23.09], 'TCGA-EW-A1P6': [1, 18.46], 'TCGA-EW-A1P7': [1, 30.06], 'TCGA-EW-A1P8': [0, 7.85], 'TCGA-EW-A1PA': [1, 18.89], 'TCGA-EW-A1PB': [1, 19.97], 'TCGA-EW-A1PD': [1, 13.93], 'TCGA-EW-A1PE': [1, 10.51], 'TCGA-EW-A1PG': [1, 34.53], 'TCGA-EW-A1PH': [1, 19.94], 'TCGA-EW-A2FR': [1, 54.96], 'TCGA-EW-A2FS': [1, 52.69], 'TCGA-EW-A2FV': [1, 25.89], 'TCGA-EW-A2FW': [1, 22.08], 'TCGA-EW-A423': [1, 17.51], 'TCGA-EW-A6S9': [1, 15.21], 'TCGA-EW-A6SA': [1, 16.75], 'TCGA-EW-A6SB': [1, 24.97], 'TCGA-EW-A6SC': [1, 31.27], 'TCGA-EW-A6SD': [1, 33.18], 'TCGA-GI-A2C8': [1, 7.39], 'TCGA-GM-A2D9': [0, 59.53], 'TCGA-GM-A2DA': [0, 216.59], 'TCGA-GM-A2DB': [1, 79.04], 'TCGA-GM-A2DC': [1, 83.28], 'TCGA-GM-A2DD': [1, 74.97], 'TCGA-GM-A2DF': [1, 70.8], 'TCGA-GM-A2DH': [1, 72.04], 'TCGA-GM-A2DI': [1, 85.09], 'TCGA-GM-A2DK': [1, 86.89], 'TCGA-GM-A2DL': [1, 115.6], 'TCGA-GM-A2DM': [1, 105.98], 'TCGA-GM-A2DN': [1, 101.54], 'TCGA-GM-A2DO': [1, 85.28], 'TCGA-GM-A3NW': [1, 110.41], 'TCGA-GM-A3XL': [1, 69.25], 'TCGA-GM-A4E0': [1, 71.98], 'TCGA-HN-A2NL': [1, 2.6], 'TCGA-HN-A2OB': [0, 62.42], 'TCGA-JL-A3YX': [1, 11.56], 'TCGA-LD-A66U': [1, 21.22], 'TCGA-LD-A74U': [1, 13.21], 'TCGA-LD-A7W5': [1, 7.1], 'TCGA-LD-A7W6': [1, 13.27], 'TCGA-LD-A9QF': [1, 10.61], 'TCGA-LL-A440': [1, 24.93], 'TCGA-LL-A50Y': [1, 25.03], 'TCGA-LL-A5YL': [1, 17.05], 'TCGA-LL-A5YM': [1, 15.31], 'TCGA-LL-A5YN': [1, 14.68], 'TCGA-LL-A5YO': [1, 14.45], 'TCGA-LL-A5YP': [1, 14.78], 'TCGA-LL-A6FP': [1, 22.24], 'TCGA-LL-A6FQ': [1, 2.63], 'TCGA-LL-A6FR': [1, 16.06], 'TCGA-LL-A73Y': [1, 15.67], 'TCGA-LL-A73Z': [0, 7.46], 'TCGA-LL-A740': [1, 14.49], 'TCGA-LL-A7SZ': [1, 19.51], 'TCGA-LL-A7T0': [1, 12.35], 'TCGA-LL-A8F5': [1, 19.58], 'TCGA-LL-A9Q3': [1, 17.48], 'TCGA-OK-A5Q2': [1, 2.1], 'TCGA-OL-A5D6': [0, 36.27], 'TCGA-OL-A5D7': [1, 58.48], 'TCGA-OL-A5D8': [1, 31.96], 'TCGA-OL-A5DA': [1, 58.57], 'TCGA-OL-A5RU': [1, 40.05], 'TCGA-OL-A5RV': [1, 34.89], 'TCGA-OL-A5RW': [1, 36.33], 'TCGA-OL-A5RX': [1, 28.84], 'TCGA-OL-A5RY': [1, 24.7], 'TCGA-OL-A5RZ': [1, 22.31], 'TCGA-OL-A5S0': [1, 20.37], 'TCGA-OL-A66I': [1, 23.46], 'TCGA-OL-A66J': [1, 65.57], 'TCGA-OL-A66K': [0, 41.89], 'TCGA-OL-A66L': [1, 42.74], 'TCGA-OL-A66N': [1, 26.02], 'TCGA-OL-A66O': [1, 17.35], 'TCGA-OL-A66P': [1, 14.06], 'TCGA-OL-A6VO': [1, 28.19], 'TCGA-OL-A6VQ': [1, 19.71], 'TCGA-OL-A97C': [1, 8.9], 'TCGA-PE-A5DC': [0, 46.98], 'TCGA-PE-A5DD': [1, 64.16], 'TCGA-PE-A5DE': [1, 86.89], 'TCGA-PL-A8LX': [1, 0.16], 'TCGA-PL-A8LY': [1, 0.26], 'TCGA-PL-A8LZ': [1, 9.92], 'TCGA-S3-A6ZF': [1, 18.79], 'TCGA-S3-A6ZG': [1, 18.46], 'TCGA-S3-A6ZH': [1, 21.06], 'TCGA-S3-AA0Z': [1, 20.66], 'TCGA-S3-AA10': [1, 19.25], 'TCGA-S3-AA11': [1, 13.83], 'TCGA-S3-AA12': [1, 18.86], 'TCGA-S3-AA14': [1, 17.38], 'TCGA-S3-AA15': [1, 17.25], 'TCGA-S3-AA17': [1, 13.93], 'TCGA-UL-AAZ6': [1, 17.02], 'TCGA-UU-A93S': [0, 3.81], 'TCGA-W8-A86G': [1, 11.4], 'TCGA-WT-AB41': [1, 52.92], 'TCGA-WT-AB44': [1, 29.01], 'TCGA-XX-A899': [1, 15.34], 'TCGA-XX-A89A': [1, 16.03], 'TCGA-Z7-A8R5': [1, 107.98], 'TCGA-Z7-A8R6': [1, 106.96]}\n",
      "{}\n",
      "{}\n"
     ]
    }
   ],
   "source": [
    "import joblib\n",
    "sur_and_time = joblib.load('./brca/brca_sur_and_time.pkl')\n",
    "print(sur_and_time)\n",
    "\n",
    "sur_and_time = data_dict\n",
    "patient_sur_type = {}\n",
    "for x in patients:\n",
    "    if x in sur_and_time:\n",
    "        patient_sur_type[x] = sur_and_time[x][0]\n",
    "\n",
    "time = []\n",
    "patient_and_time = {}\n",
    "for x in patients:\n",
    "    if x in sur_and_time:\n",
    "        time.append(sur_and_time[x][-1])\n",
    "        patient_and_time[x] = sur_and_time[x][-1]\n",
    "print(patient_and_time)\n",
    "print(sur_and_time)"
   ],
   "metadata": {
    "collapsed": false,
    "ExecuteTime": {
     "start_time": "2023-12-12T20:09:53.693295Z",
     "end_time": "2023-12-12T20:09:53.708369Z"
    }
   }
  },
  {
   "cell_type": "raw",
   "source": [
    "##get img feature"
   ],
   "metadata": {
    "collapsed": false
   }
  },
  {
   "cell_type": "code",
   "execution_count": 20,
   "outputs": [
    {
     "ename": "KeyboardInterrupt",
     "evalue": "",
     "output_type": "error",
     "traceback": [
      "\u001B[1;31m---------------------------------------------------------------------------\u001B[0m",
      "\u001B[1;31mKeyboardInterrupt\u001B[0m                         Traceback (most recent call last)",
      "Cell \u001B[1;32mIn[20], line 29\u001B[0m\n\u001B[0;32m     27\u001B[0m save_file_path \u001B[38;5;241m=\u001B[39m \u001B[38;5;124m'\u001B[39m\u001B[38;5;124m./luad/t_img_fea.pkl\u001B[39m\u001B[38;5;124m'\u001B[39m\n\u001B[0;32m     28\u001B[0m \u001B[38;5;66;03m# 创建字典\u001B[39;00m\n\u001B[1;32m---> 29\u001B[0m pkl_dict \u001B[38;5;241m=\u001B[39m \u001B[43mcreate_pkl_dict\u001B[49m\u001B[43m(\u001B[49m\u001B[43mfolder_path\u001B[49m\u001B[43m,\u001B[49m\u001B[43m \u001B[49m\u001B[43msave_file_path\u001B[49m\u001B[43m)\u001B[49m\n",
      "Cell \u001B[1;32mIn[20], line 14\u001B[0m, in \u001B[0;36mcreate_pkl_dict\u001B[1;34m(folder_path, save_file_path)\u001B[0m\n\u001B[0;32m     12\u001B[0m \u001B[38;5;66;03m# 读取 pkl 文件内容\u001B[39;00m\n\u001B[0;32m     13\u001B[0m \u001B[38;5;28;01mwith\u001B[39;00m \u001B[38;5;28mopen\u001B[39m(file_path, \u001B[38;5;124m'\u001B[39m\u001B[38;5;124mrb\u001B[39m\u001B[38;5;124m'\u001B[39m) \u001B[38;5;28;01mas\u001B[39;00m f:\n\u001B[1;32m---> 14\u001B[0m     file_content \u001B[38;5;241m=\u001B[39m \u001B[43mjoblib\u001B[49m\u001B[38;5;241;43m.\u001B[39;49m\u001B[43mload\u001B[49m\u001B[43m(\u001B[49m\u001B[43mf\u001B[49m\u001B[43m)\u001B[49m\n\u001B[0;32m     16\u001B[0m \u001B[38;5;66;03m# 将文件名和文件内容添加到字典中\u001B[39;00m\n\u001B[0;32m     17\u001B[0m pkl_dict[file_name[:\u001B[38;5;241m12\u001B[39m]] \u001B[38;5;241m=\u001B[39m file_content\n",
      "File \u001B[1;32mC:\\ProgramData\\anaconda3\\envs\\torch\\lib\\site-packages\\joblib\\numpy_pickle.py:648\u001B[0m, in \u001B[0;36mload\u001B[1;34m(filename, mmap_mode)\u001B[0m\n\u001B[0;32m    646\u001B[0m     filename \u001B[38;5;241m=\u001B[39m \u001B[38;5;28mgetattr\u001B[39m(fobj, \u001B[38;5;124m'\u001B[39m\u001B[38;5;124mname\u001B[39m\u001B[38;5;124m'\u001B[39m, \u001B[38;5;124m'\u001B[39m\u001B[38;5;124m'\u001B[39m)\n\u001B[0;32m    647\u001B[0m     \u001B[38;5;28;01mwith\u001B[39;00m _read_fileobject(fobj, filename, mmap_mode) \u001B[38;5;28;01mas\u001B[39;00m fobj:\n\u001B[1;32m--> 648\u001B[0m         obj \u001B[38;5;241m=\u001B[39m \u001B[43m_unpickle\u001B[49m\u001B[43m(\u001B[49m\u001B[43mfobj\u001B[49m\u001B[43m)\u001B[49m\n\u001B[0;32m    649\u001B[0m \u001B[38;5;28;01melse\u001B[39;00m:\n\u001B[0;32m    650\u001B[0m     \u001B[38;5;28;01mwith\u001B[39;00m \u001B[38;5;28mopen\u001B[39m(filename, \u001B[38;5;124m'\u001B[39m\u001B[38;5;124mrb\u001B[39m\u001B[38;5;124m'\u001B[39m) \u001B[38;5;28;01mas\u001B[39;00m f:\n",
      "File \u001B[1;32mC:\\ProgramData\\anaconda3\\envs\\torch\\lib\\site-packages\\joblib\\numpy_pickle.py:577\u001B[0m, in \u001B[0;36m_unpickle\u001B[1;34m(fobj, filename, mmap_mode)\u001B[0m\n\u001B[0;32m    575\u001B[0m obj \u001B[38;5;241m=\u001B[39m \u001B[38;5;28;01mNone\u001B[39;00m\n\u001B[0;32m    576\u001B[0m \u001B[38;5;28;01mtry\u001B[39;00m:\n\u001B[1;32m--> 577\u001B[0m     obj \u001B[38;5;241m=\u001B[39m \u001B[43munpickler\u001B[49m\u001B[38;5;241;43m.\u001B[39;49m\u001B[43mload\u001B[49m\u001B[43m(\u001B[49m\u001B[43m)\u001B[49m\n\u001B[0;32m    578\u001B[0m     \u001B[38;5;28;01mif\u001B[39;00m unpickler\u001B[38;5;241m.\u001B[39mcompat_mode:\n\u001B[0;32m    579\u001B[0m         warnings\u001B[38;5;241m.\u001B[39mwarn(\u001B[38;5;124m\"\u001B[39m\u001B[38;5;124mThe file \u001B[39m\u001B[38;5;124m'\u001B[39m\u001B[38;5;132;01m%s\u001B[39;00m\u001B[38;5;124m'\u001B[39m\u001B[38;5;124m has been generated with a \u001B[39m\u001B[38;5;124m\"\u001B[39m\n\u001B[0;32m    580\u001B[0m                       \u001B[38;5;124m\"\u001B[39m\u001B[38;5;124mjoblib version less than 0.10. \u001B[39m\u001B[38;5;124m\"\u001B[39m\n\u001B[0;32m    581\u001B[0m                       \u001B[38;5;124m\"\u001B[39m\u001B[38;5;124mPlease regenerate this pickle file.\u001B[39m\u001B[38;5;124m\"\u001B[39m\n\u001B[0;32m    582\u001B[0m                       \u001B[38;5;241m%\u001B[39m filename,\n\u001B[0;32m    583\u001B[0m                       \u001B[38;5;167;01mDeprecationWarning\u001B[39;00m, stacklevel\u001B[38;5;241m=\u001B[39m\u001B[38;5;241m3\u001B[39m)\n",
      "File \u001B[1;32mC:\\ProgramData\\anaconda3\\envs\\torch\\lib\\pickle.py:1212\u001B[0m, in \u001B[0;36m_Unpickler.load\u001B[1;34m(self)\u001B[0m\n\u001B[0;32m   1210\u001B[0m             \u001B[38;5;28;01mraise\u001B[39;00m \u001B[38;5;167;01mEOFError\u001B[39;00m\n\u001B[0;32m   1211\u001B[0m         \u001B[38;5;28;01massert\u001B[39;00m \u001B[38;5;28misinstance\u001B[39m(key, bytes_types)\n\u001B[1;32m-> 1212\u001B[0m         \u001B[43mdispatch\u001B[49m\u001B[43m[\u001B[49m\u001B[43mkey\u001B[49m\u001B[43m[\u001B[49m\u001B[38;5;241;43m0\u001B[39;49m\u001B[43m]\u001B[49m\u001B[43m]\u001B[49m\u001B[43m(\u001B[49m\u001B[38;5;28;43mself\u001B[39;49m\u001B[43m)\u001B[49m\n\u001B[0;32m   1213\u001B[0m \u001B[38;5;28;01mexcept\u001B[39;00m _Stop \u001B[38;5;28;01mas\u001B[39;00m stopinst:\n\u001B[0;32m   1214\u001B[0m     \u001B[38;5;28;01mreturn\u001B[39;00m stopinst\u001B[38;5;241m.\u001B[39mvalue\n",
      "File \u001B[1;32mC:\\ProgramData\\anaconda3\\envs\\torch\\lib\\site-packages\\joblib\\numpy_pickle.py:402\u001B[0m, in \u001B[0;36mNumpyUnpickler.load_build\u001B[1;34m(self)\u001B[0m\n\u001B[0;32m    394\u001B[0m \u001B[38;5;28;01mdef\u001B[39;00m \u001B[38;5;21mload_build\u001B[39m(\u001B[38;5;28mself\u001B[39m):\n\u001B[0;32m    395\u001B[0m \u001B[38;5;250m    \u001B[39m\u001B[38;5;124;03m\"\"\"Called to set the state of a newly created object.\u001B[39;00m\n\u001B[0;32m    396\u001B[0m \n\u001B[0;32m    397\u001B[0m \u001B[38;5;124;03m    We capture it to replace our place-holder objects, NDArrayWrapper or\u001B[39;00m\n\u001B[1;32m   (...)\u001B[0m\n\u001B[0;32m    400\u001B[0m \u001B[38;5;124;03m    NDArrayWrapper is used for backward compatibility with joblib <= 0.9.\u001B[39;00m\n\u001B[0;32m    401\u001B[0m \u001B[38;5;124;03m    \"\"\"\u001B[39;00m\n\u001B[1;32m--> 402\u001B[0m     \u001B[43mUnpickler\u001B[49m\u001B[38;5;241;43m.\u001B[39;49m\u001B[43mload_build\u001B[49m\u001B[43m(\u001B[49m\u001B[38;5;28;43mself\u001B[39;49m\u001B[43m)\u001B[49m\n\u001B[0;32m    404\u001B[0m     \u001B[38;5;66;03m# For backward compatibility, we support NDArrayWrapper objects.\u001B[39;00m\n\u001B[0;32m    405\u001B[0m     \u001B[38;5;28;01mif\u001B[39;00m \u001B[38;5;28misinstance\u001B[39m(\u001B[38;5;28mself\u001B[39m\u001B[38;5;241m.\u001B[39mstack[\u001B[38;5;241m-\u001B[39m\u001B[38;5;241m1\u001B[39m], (NDArrayWrapper, NumpyArrayWrapper)):\n",
      "File \u001B[1;32mC:\\ProgramData\\anaconda3\\envs\\torch\\lib\\pickle.py:1726\u001B[0m, in \u001B[0;36m_Unpickler.load_build\u001B[1;34m(self)\u001B[0m\n\u001B[0;32m   1724\u001B[0m intern \u001B[38;5;241m=\u001B[39m sys\u001B[38;5;241m.\u001B[39mintern\n\u001B[0;32m   1725\u001B[0m \u001B[38;5;28;01mfor\u001B[39;00m k, v \u001B[38;5;129;01min\u001B[39;00m state\u001B[38;5;241m.\u001B[39mitems():\n\u001B[1;32m-> 1726\u001B[0m     \u001B[38;5;28;01mif\u001B[39;00m \u001B[38;5;28;43mtype\u001B[39;49m(k) \u001B[38;5;129;01mis\u001B[39;00m \u001B[38;5;28mstr\u001B[39m:\n\u001B[0;32m   1727\u001B[0m         inst_dict[intern(k)] \u001B[38;5;241m=\u001B[39m v\n\u001B[0;32m   1728\u001B[0m     \u001B[38;5;28;01melse\u001B[39;00m:\n",
      "\u001B[1;31mKeyboardInterrupt\u001B[0m: "
     ]
    }
   ],
   "source": [
    "import os\n",
    "\n",
    "\n",
    "def create_pkl_dict(folder_path, save_file_path):\n",
    "    pkl_dict = {}\n",
    "\n",
    "    # 遍历文件夹中的所有文件\n",
    "    for file_name in os.listdir(folder_path):\n",
    "        if file_name.endswith('.pkl'):\n",
    "            file_path = os.path.join(folder_path, file_name)\n",
    "\n",
    "            # 读取 pkl 文件内容\n",
    "            with open(file_path, 'rb') as f:\n",
    "                file_content = joblib.load(f)\n",
    "\n",
    "            # 将文件名和文件内容添加到字典中\n",
    "            pkl_dict[file_name[:12]] = file_content\n",
    "    # 保存字典为 pkl 文件\n",
    "    with open(save_file_path, 'wb') as f:\n",
    "        joblib.dump(pkl_dict, f)\n",
    "\n",
    "    return pkl_dict\n",
    "\n",
    "# 文件夹路径\n",
    "folder_path = './luad/luad_256_features/np'\n",
    "# 保存文件的路径\n",
    "save_file_path = './luad/t_img_fea.pkl'\n",
    "# 创建字典\n",
    "pkl_dict = create_pkl_dict(folder_path, save_file_path)"
   ],
   "metadata": {
    "collapsed": false,
    "ExecuteTime": {
     "start_time": "2023-11-04T17:24:01.051433Z",
     "end_time": "2023-11-04T17:25:39.835411Z"
    }
   }
  },
  {
   "cell_type": "raw",
   "source": [
    "#read img data"
   ],
   "metadata": {
    "collapsed": false
   }
  },
  {
   "cell_type": "code",
   "execution_count": 21,
   "outputs": [
    {
     "ename": "KeyboardInterrupt",
     "evalue": "",
     "output_type": "error",
     "traceback": [
      "\u001B[1;31m---------------------------------------------------------------------------\u001B[0m",
      "\u001B[1;31mKeyboardInterrupt\u001B[0m                         Traceback (most recent call last)",
      "Cell \u001B[1;32mIn[21], line 18\u001B[0m\n\u001B[0;32m     16\u001B[0m t_img_fea \u001B[38;5;241m=\u001B[39m joblib\u001B[38;5;241m.\u001B[39mload(\u001B[38;5;124m'\u001B[39m\u001B[38;5;124m./luad/t_img_fea.pkl\u001B[39m\u001B[38;5;124m'\u001B[39m)\n\u001B[0;32m     17\u001B[0m \u001B[38;5;66;03m# t_img_fea = joblib.load('./HGCN/LUSC/lusc_data.pkl')\u001B[39;00m\n\u001B[1;32m---> 18\u001B[0m \u001B[38;5;28;43mprint\u001B[39;49m\u001B[43m(\u001B[49m\u001B[43mt_img_fea\u001B[49m\u001B[43m)\u001B[49m\n",
      "File \u001B[1;32mC:\\ProgramData\\anaconda3\\envs\\torch\\lib\\site-packages\\numpy\\core\\arrayprint.py:1488\u001B[0m, in \u001B[0;36m_array_repr_implementation\u001B[1;34m(arr, max_line_width, precision, suppress_small, array2string)\u001B[0m\n\u001B[0;32m   1486\u001B[0m     lst \u001B[38;5;241m=\u001B[39m \u001B[38;5;28mrepr\u001B[39m(arr\u001B[38;5;241m.\u001B[39mitem())\n\u001B[0;32m   1487\u001B[0m \u001B[38;5;28;01melif\u001B[39;00m arr\u001B[38;5;241m.\u001B[39msize \u001B[38;5;241m>\u001B[39m \u001B[38;5;241m0\u001B[39m \u001B[38;5;129;01mor\u001B[39;00m arr\u001B[38;5;241m.\u001B[39mshape \u001B[38;5;241m==\u001B[39m (\u001B[38;5;241m0\u001B[39m,):\n\u001B[1;32m-> 1488\u001B[0m     lst \u001B[38;5;241m=\u001B[39m \u001B[43marray2string\u001B[49m\u001B[43m(\u001B[49m\u001B[43marr\u001B[49m\u001B[43m,\u001B[49m\u001B[43m \u001B[49m\u001B[43mmax_line_width\u001B[49m\u001B[43m,\u001B[49m\u001B[43m \u001B[49m\u001B[43mprecision\u001B[49m\u001B[43m,\u001B[49m\u001B[43m \u001B[49m\u001B[43msuppress_small\u001B[49m\u001B[43m,\u001B[49m\n\u001B[0;32m   1489\u001B[0m \u001B[43m                       \u001B[49m\u001B[38;5;124;43m'\u001B[39;49m\u001B[38;5;124;43m, \u001B[39;49m\u001B[38;5;124;43m'\u001B[39;49m\u001B[43m,\u001B[49m\u001B[43m \u001B[49m\u001B[43mprefix\u001B[49m\u001B[43m,\u001B[49m\u001B[43m \u001B[49m\u001B[43msuffix\u001B[49m\u001B[38;5;241;43m=\u001B[39;49m\u001B[43msuffix\u001B[49m\u001B[43m)\u001B[49m\n\u001B[0;32m   1490\u001B[0m \u001B[38;5;28;01melse\u001B[39;00m:  \u001B[38;5;66;03m# show zero-length shape unless it is (0,)\u001B[39;00m\n\u001B[0;32m   1491\u001B[0m     lst \u001B[38;5;241m=\u001B[39m \u001B[38;5;124m\"\u001B[39m\u001B[38;5;124m[], shape=\u001B[39m\u001B[38;5;132;01m%s\u001B[39;00m\u001B[38;5;124m\"\u001B[39m \u001B[38;5;241m%\u001B[39m (\u001B[38;5;28mrepr\u001B[39m(arr\u001B[38;5;241m.\u001B[39mshape),)\n",
      "File \u001B[1;32mC:\\ProgramData\\anaconda3\\envs\\torch\\lib\\site-packages\\numpy\\core\\arrayprint.py:736\u001B[0m, in \u001B[0;36marray2string\u001B[1;34m(a, max_line_width, precision, suppress_small, separator, prefix, style, formatter, threshold, edgeitems, sign, floatmode, suffix, legacy)\u001B[0m\n\u001B[0;32m    733\u001B[0m \u001B[38;5;28;01mif\u001B[39;00m a\u001B[38;5;241m.\u001B[39msize \u001B[38;5;241m==\u001B[39m \u001B[38;5;241m0\u001B[39m:\n\u001B[0;32m    734\u001B[0m     \u001B[38;5;28;01mreturn\u001B[39;00m \u001B[38;5;124m\"\u001B[39m\u001B[38;5;124m[]\u001B[39m\u001B[38;5;124m\"\u001B[39m\n\u001B[1;32m--> 736\u001B[0m \u001B[38;5;28;01mreturn\u001B[39;00m \u001B[43m_array2string\u001B[49m\u001B[43m(\u001B[49m\u001B[43ma\u001B[49m\u001B[43m,\u001B[49m\u001B[43m \u001B[49m\u001B[43moptions\u001B[49m\u001B[43m,\u001B[49m\u001B[43m \u001B[49m\u001B[43mseparator\u001B[49m\u001B[43m,\u001B[49m\u001B[43m \u001B[49m\u001B[43mprefix\u001B[49m\u001B[43m)\u001B[49m\n",
      "File \u001B[1;32mC:\\ProgramData\\anaconda3\\envs\\torch\\lib\\site-packages\\numpy\\core\\arrayprint.py:513\u001B[0m, in \u001B[0;36m_recursive_guard.<locals>.decorating_function.<locals>.wrapper\u001B[1;34m(self, *args, **kwargs)\u001B[0m\n\u001B[0;32m    511\u001B[0m repr_running\u001B[38;5;241m.\u001B[39madd(key)\n\u001B[0;32m    512\u001B[0m \u001B[38;5;28;01mtry\u001B[39;00m:\n\u001B[1;32m--> 513\u001B[0m     \u001B[38;5;28;01mreturn\u001B[39;00m f(\u001B[38;5;28mself\u001B[39m, \u001B[38;5;241m*\u001B[39margs, \u001B[38;5;241m*\u001B[39m\u001B[38;5;241m*\u001B[39mkwargs)\n\u001B[0;32m    514\u001B[0m \u001B[38;5;28;01mfinally\u001B[39;00m:\n\u001B[0;32m    515\u001B[0m     repr_running\u001B[38;5;241m.\u001B[39mdiscard(key)\n",
      "File \u001B[1;32mC:\\ProgramData\\anaconda3\\envs\\torch\\lib\\site-packages\\numpy\\core\\arrayprint.py:539\u001B[0m, in \u001B[0;36m_array2string\u001B[1;34m(a, options, separator, prefix)\u001B[0m\n\u001B[0;32m    536\u001B[0m     summary_insert \u001B[38;5;241m=\u001B[39m \u001B[38;5;124m\"\u001B[39m\u001B[38;5;124m\"\u001B[39m\n\u001B[0;32m    538\u001B[0m \u001B[38;5;66;03m# find the right formatting function for the array\u001B[39;00m\n\u001B[1;32m--> 539\u001B[0m format_function \u001B[38;5;241m=\u001B[39m _get_format_function(data, \u001B[38;5;241m*\u001B[39m\u001B[38;5;241m*\u001B[39moptions)\n\u001B[0;32m    541\u001B[0m \u001B[38;5;66;03m# skip over \"[\"\u001B[39;00m\n\u001B[0;32m    542\u001B[0m next_line_prefix \u001B[38;5;241m=\u001B[39m \u001B[38;5;124m\"\u001B[39m\u001B[38;5;124m \u001B[39m\u001B[38;5;124m\"\u001B[39m\n",
      "File \u001B[1;32mC:\\ProgramData\\anaconda3\\envs\\torch\\lib\\site-packages\\numpy\\core\\arrayprint.py:472\u001B[0m, in \u001B[0;36m_get_format_function\u001B[1;34m(data, **options)\u001B[0m\n\u001B[0;32m    470\u001B[0m         \u001B[38;5;28;01mreturn\u001B[39;00m formatdict[\u001B[38;5;124m'\u001B[39m\u001B[38;5;124mlongfloat\u001B[39m\u001B[38;5;124m'\u001B[39m]()\n\u001B[0;32m    471\u001B[0m     \u001B[38;5;28;01melse\u001B[39;00m:\n\u001B[1;32m--> 472\u001B[0m         \u001B[38;5;28;01mreturn\u001B[39;00m \u001B[43mformatdict\u001B[49m\u001B[43m[\u001B[49m\u001B[38;5;124;43m'\u001B[39;49m\u001B[38;5;124;43mfloat\u001B[39;49m\u001B[38;5;124;43m'\u001B[39;49m\u001B[43m]\u001B[49m\u001B[43m(\u001B[49m\u001B[43m)\u001B[49m\n\u001B[0;32m    473\u001B[0m \u001B[38;5;28;01melif\u001B[39;00m \u001B[38;5;28missubclass\u001B[39m(dtypeobj, _nt\u001B[38;5;241m.\u001B[39mcomplexfloating):\n\u001B[0;32m    474\u001B[0m     \u001B[38;5;28;01mif\u001B[39;00m \u001B[38;5;28missubclass\u001B[39m(dtypeobj, _nt\u001B[38;5;241m.\u001B[39mclongfloat):\n",
      "File \u001B[1;32mC:\\ProgramData\\anaconda3\\envs\\torch\\lib\\site-packages\\numpy\\core\\arrayprint.py:411\u001B[0m, in \u001B[0;36m_get_formatdict.<locals>.<lambda>\u001B[1;34m()\u001B[0m\n\u001B[0;32m    403\u001B[0m \u001B[38;5;28;01mdef\u001B[39;00m \u001B[38;5;21m_get_formatdict\u001B[39m(data, \u001B[38;5;241m*\u001B[39m, precision, floatmode, suppress, sign, legacy,\n\u001B[0;32m    404\u001B[0m                     formatter, \u001B[38;5;241m*\u001B[39m\u001B[38;5;241m*\u001B[39mkwargs):\n\u001B[0;32m    405\u001B[0m     \u001B[38;5;66;03m# note: extra arguments in kwargs are ignored\u001B[39;00m\n\u001B[0;32m    406\u001B[0m \n\u001B[0;32m    407\u001B[0m     \u001B[38;5;66;03m# wrapped in lambdas to avoid taking a code path with the wrong type of data\u001B[39;00m\n\u001B[0;32m    408\u001B[0m     formatdict \u001B[38;5;241m=\u001B[39m {\n\u001B[0;32m    409\u001B[0m         \u001B[38;5;124m'\u001B[39m\u001B[38;5;124mbool\u001B[39m\u001B[38;5;124m'\u001B[39m: \u001B[38;5;28;01mlambda\u001B[39;00m: BoolFormat(data),\n\u001B[0;32m    410\u001B[0m         \u001B[38;5;124m'\u001B[39m\u001B[38;5;124mint\u001B[39m\u001B[38;5;124m'\u001B[39m: \u001B[38;5;28;01mlambda\u001B[39;00m: IntegerFormat(data),\n\u001B[1;32m--> 411\u001B[0m         \u001B[38;5;124m'\u001B[39m\u001B[38;5;124mfloat\u001B[39m\u001B[38;5;124m'\u001B[39m: \u001B[38;5;28;01mlambda\u001B[39;00m: \u001B[43mFloatingFormat\u001B[49m\u001B[43m(\u001B[49m\n\u001B[0;32m    412\u001B[0m \u001B[43m            \u001B[49m\u001B[43mdata\u001B[49m\u001B[43m,\u001B[49m\u001B[43m \u001B[49m\u001B[43mprecision\u001B[49m\u001B[43m,\u001B[49m\u001B[43m \u001B[49m\u001B[43mfloatmode\u001B[49m\u001B[43m,\u001B[49m\u001B[43m \u001B[49m\u001B[43msuppress\u001B[49m\u001B[43m,\u001B[49m\u001B[43m \u001B[49m\u001B[43msign\u001B[49m\u001B[43m,\u001B[49m\u001B[43m \u001B[49m\u001B[43mlegacy\u001B[49m\u001B[38;5;241;43m=\u001B[39;49m\u001B[43mlegacy\u001B[49m\u001B[43m)\u001B[49m,\n\u001B[0;32m    413\u001B[0m         \u001B[38;5;124m'\u001B[39m\u001B[38;5;124mlongfloat\u001B[39m\u001B[38;5;124m'\u001B[39m: \u001B[38;5;28;01mlambda\u001B[39;00m: FloatingFormat(\n\u001B[0;32m    414\u001B[0m             data, precision, floatmode, suppress, sign, legacy\u001B[38;5;241m=\u001B[39mlegacy),\n\u001B[0;32m    415\u001B[0m         \u001B[38;5;124m'\u001B[39m\u001B[38;5;124mcomplexfloat\u001B[39m\u001B[38;5;124m'\u001B[39m: \u001B[38;5;28;01mlambda\u001B[39;00m: ComplexFloatingFormat(\n\u001B[0;32m    416\u001B[0m             data, precision, floatmode, suppress, sign, legacy\u001B[38;5;241m=\u001B[39mlegacy),\n\u001B[0;32m    417\u001B[0m         \u001B[38;5;124m'\u001B[39m\u001B[38;5;124mlongcomplexfloat\u001B[39m\u001B[38;5;124m'\u001B[39m: \u001B[38;5;28;01mlambda\u001B[39;00m: ComplexFloatingFormat(\n\u001B[0;32m    418\u001B[0m             data, precision, floatmode, suppress, sign, legacy\u001B[38;5;241m=\u001B[39mlegacy),\n\u001B[0;32m    419\u001B[0m         \u001B[38;5;124m'\u001B[39m\u001B[38;5;124mdatetime\u001B[39m\u001B[38;5;124m'\u001B[39m: \u001B[38;5;28;01mlambda\u001B[39;00m: DatetimeFormat(data, legacy\u001B[38;5;241m=\u001B[39mlegacy),\n\u001B[0;32m    420\u001B[0m         \u001B[38;5;124m'\u001B[39m\u001B[38;5;124mtimedelta\u001B[39m\u001B[38;5;124m'\u001B[39m: \u001B[38;5;28;01mlambda\u001B[39;00m: TimedeltaFormat(data),\n\u001B[0;32m    421\u001B[0m         \u001B[38;5;124m'\u001B[39m\u001B[38;5;124mobject\u001B[39m\u001B[38;5;124m'\u001B[39m: \u001B[38;5;28;01mlambda\u001B[39;00m: _object_format,\n\u001B[0;32m    422\u001B[0m         \u001B[38;5;124m'\u001B[39m\u001B[38;5;124mvoid\u001B[39m\u001B[38;5;124m'\u001B[39m: \u001B[38;5;28;01mlambda\u001B[39;00m: str_format,\n\u001B[0;32m    423\u001B[0m         \u001B[38;5;124m'\u001B[39m\u001B[38;5;124mnumpystr\u001B[39m\u001B[38;5;124m'\u001B[39m: \u001B[38;5;28;01mlambda\u001B[39;00m: repr_format}\n\u001B[0;32m    425\u001B[0m     \u001B[38;5;66;03m# we need to wrap values in `formatter` in a lambda, so that the interface\u001B[39;00m\n\u001B[0;32m    426\u001B[0m     \u001B[38;5;66;03m# is the same as the above values.\u001B[39;00m\n\u001B[0;32m    427\u001B[0m     \u001B[38;5;28;01mdef\u001B[39;00m \u001B[38;5;21mindirect\u001B[39m(x):\n",
      "File \u001B[1;32mC:\\ProgramData\\anaconda3\\envs\\torch\\lib\\site-packages\\numpy\\core\\arrayprint.py:932\u001B[0m, in \u001B[0;36mFloatingFormat.__init__\u001B[1;34m(self, data, precision, floatmode, suppress_small, sign, legacy)\u001B[0m\n\u001B[0;32m    929\u001B[0m \u001B[38;5;28mself\u001B[39m\u001B[38;5;241m.\u001B[39mexp_format \u001B[38;5;241m=\u001B[39m \u001B[38;5;28;01mFalse\u001B[39;00m\n\u001B[0;32m    930\u001B[0m \u001B[38;5;28mself\u001B[39m\u001B[38;5;241m.\u001B[39mlarge_exponent \u001B[38;5;241m=\u001B[39m \u001B[38;5;28;01mFalse\u001B[39;00m\n\u001B[1;32m--> 932\u001B[0m \u001B[38;5;28;43mself\u001B[39;49m\u001B[38;5;241;43m.\u001B[39;49m\u001B[43mfillFormat\u001B[49m\u001B[43m(\u001B[49m\u001B[43mdata\u001B[49m\u001B[43m)\u001B[49m\n",
      "File \u001B[1;32mC:\\ProgramData\\anaconda3\\envs\\torch\\lib\\site-packages\\numpy\\core\\arrayprint.py:936\u001B[0m, in \u001B[0;36mFloatingFormat.fillFormat\u001B[1;34m(self, data)\u001B[0m\n\u001B[0;32m    934\u001B[0m \u001B[38;5;28;01mdef\u001B[39;00m \u001B[38;5;21mfillFormat\u001B[39m(\u001B[38;5;28mself\u001B[39m, data):\n\u001B[0;32m    935\u001B[0m     \u001B[38;5;66;03m# only the finite values are used to compute the number of digits\u001B[39;00m\n\u001B[1;32m--> 936\u001B[0m     finite_vals \u001B[38;5;241m=\u001B[39m \u001B[43mdata\u001B[49m\u001B[43m[\u001B[49m\u001B[43misfinite\u001B[49m\u001B[43m(\u001B[49m\u001B[43mdata\u001B[49m\u001B[43m)\u001B[49m\u001B[43m]\u001B[49m\n\u001B[0;32m    938\u001B[0m     \u001B[38;5;66;03m# choose exponential mode based on the non-zero finite values:\u001B[39;00m\n\u001B[0;32m    939\u001B[0m     abs_non_zero \u001B[38;5;241m=\u001B[39m absolute(finite_vals[finite_vals \u001B[38;5;241m!=\u001B[39m \u001B[38;5;241m0\u001B[39m])\n",
      "\u001B[1;31mKeyboardInterrupt\u001B[0m: "
     ]
    }
   ],
   "source": [
    "'''\n",
    "t_img_fea contains the pretrained features of the patch.\n",
    "\n",
    "{'TCGA-VR-A8EX': {'23-25.png': array([ 0.0958841 ,  0.0922773 ,  0.10698985, ..., -0.51396465,\n",
    "          3.0901225 , -1.7472196 ], dtype=float32),\n",
    "      '22-26.png': array([ 0.08808839,  0.10823577,  0.10959034, ...,  0.3193577 ,\n",
    "          3.0152717 , -2.3737502 ], dtype=float32),\n",
    "          ....}\n",
    " 'TCGA-LN-A4A6': {'11-7.png': array([ 0.09743017,  0.16183454,  0.03875097, ...,  0.42391908,\n",
    "          2.4486601 , -0.37408364], dtype=float32),\n",
    "      '36-16.png': array([ 0.07777312,  0.0657203 ,  0.16304843, ..., -1.218863  ,\n",
    "          0.26710236,  0.6011251 ], dtype=float32),\n",
    "          ....}\n",
    "  ....}\n",
    "'''\n",
    "t_img_fea = joblib.load('./luad/t_img_fea.pkl')\n",
    "# t_img_fea = joblib.load('./HGCN/LUSC/lusc_data.pkl')\n",
    "print(t_img_fea)"
   ],
   "metadata": {
    "collapsed": false
   }
  },
  {
   "cell_type": "raw",
   "source": [
    "####get gene"
   ],
   "metadata": {
    "collapsed": false
   }
  },
  {
   "cell_type": "code",
   "execution_count": 8,
   "outputs": [
    {
     "name": "stderr",
     "output_type": "stream",
     "text": [
      "IOPub data rate exceeded.\n",
      "The notebook server will temporarily stop sending output\n",
      "to the client in order to avoid crashing it.\n",
      "To change this limit, set the config variable\n",
      "`--NotebookApp.iopub_data_rate_limit`.\n",
      "\n",
      "Current values:\n",
      "NotebookApp.iopub_data_rate_limit=1000000.0 (bytes/sec)\n",
      "NotebookApp.rate_limit_window=3.0 (secs)\n",
      "\n"
     ]
    }
   ],
   "source": [
    "######CNV, MUT, RNA\n",
    "\n",
    "import csv\n",
    "import joblib\n",
    "# CSV文件路径\n",
    "csv_file = 'E:\\\\multi-mode\\\\datasets_csv\\\\brca\\\\tcga_brca_rna.csv'\n",
    "\n",
    "# case_id 列索引\n",
    "case_id_col_index = 0\n",
    "\n",
    "# 存储数据的字典\n",
    "data_dict = {}\n",
    "\n",
    "# t_patients_fea = joblib.load('./datas/luad/luad_patients.pkl')\n",
    "# patients = t_patients_fea\n",
    "# 读取CSV文件并将其转换为字典\n",
    "with open(csv_file, 'r') as f:\n",
    "    reader = csv.reader(f)\n",
    "    headers = next(reader) # 读取第一行作为表头\n",
    "    for row in reader:\n",
    "        # 提取 case_id 和对应的列数据\n",
    "        case_id = row[case_id_col_index]\n",
    "        # if case_id in patients:\n",
    "        data = row[9:]\n",
    "\n",
    "        # 将数据保存到字典中\n",
    "        data_dict[case_id] = data\n",
    "\n",
    "luad_cnv = data_dict\n",
    "joblib.dump(luad_cnv,'./brca/brca_rna.pkl')\n",
    "print(data_dict)"
   ],
   "metadata": {
    "collapsed": false,
    "ExecuteTime": {
     "start_time": "2023-12-12T20:14:52.965638Z",
     "end_time": "2023-12-12T20:15:40.588360Z"
    }
   }
  },
  {
   "cell_type": "code",
   "execution_count": null,
   "outputs": [],
   "source": [
    "'''\n",
    "{'TCGA-LN-A49R': [[-0.4064,-1.3284, 2.637,0.0197, 0.8055,...],\n",
    "                [-0.314,-0.6875, -2.1022,-1.5837,-0.6759,...],\n",
    "                ...]\n",
    "  ...}\n",
    "\n",
    "'''\n",
    "t_rna_fea = joblib.load('./luad/luad_mut.pkl')\n",
    "rna_fea_1024 = {}\n",
    "for x in patients:\n",
    "    if x in t_rna_fea:\n",
    "        tmp = []\n",
    "        for i,z in enumerate(t_rna_fea[x]):\n",
    "            u=[]\n",
    "            j=0\n",
    "            for o in z:\n",
    "                u.append(float(o))\n",
    "                j+=1\n",
    "            #all node features are aligned to 1024 dimensions by zero padding\n",
    "            for k in range(j,1024):\n",
    "                u.append(0.)\n",
    "            tmp.append(u)\n",
    "        rna_fea_1024[x]= tmp"
   ],
   "metadata": {
    "collapsed": false
   }
  },
  {
   "cell_type": "code",
   "execution_count": null,
   "outputs": [],
   "source": [],
   "metadata": {
    "collapsed": false
   }
  },
  {
   "cell_type": "code",
   "execution_count": null,
   "outputs": [],
   "source": [],
   "metadata": {
    "collapsed": false
   }
  },
  {
   "cell_type": "code",
   "execution_count": null,
   "outputs": [],
   "source": [],
   "metadata": {
    "collapsed": false
   }
  },
  {
   "cell_type": "code",
   "execution_count": null,
   "outputs": [],
   "source": [
    "##获取病人的生存和时间\n",
    "t_sur_and_time_fea = joblib.load('./luad/luad_sur_and_time.pkl')\n",
    "sur_and_time = t_sur_and_time_fea\n",
    "\n",
    "####RNA\n",
    "t_rna_fea = joblib.load('./luad/luad_rna.pkl')\n",
    "\n",
    "#####CNV\n",
    "t_cnv_fea = joblib.load('./luad/luad_cnv.pkl')\n",
    "\n",
    "###MUT\n",
    "t_mut_fea = joblib.load('./luad/luad_mut.pkl')"
   ],
   "metadata": {
    "collapsed": false
   }
  },
  {
   "cell_type": "raw",
   "source": [
    "##construct embedding"
   ],
   "metadata": {
    "collapsed": false
   }
  },
  {
   "cell_type": "code",
   "execution_count": null,
   "outputs": [],
   "source": [
    "###construct image edge\n",
    "def get_edge_index_image(id):\n",
    "    start = []\n",
    "    end = []\n",
    "    if id in t_img_fea:\n",
    "        patch_id = {}\n",
    "        i=0\n",
    "        for x in t_img_fea[id]:\n",
    "            patch_id[x.split('.')[0]] = i\n",
    "            i+=1\n",
    "    #     print(patch_id)\n",
    "        for x in patch_id:\n",
    "    #         print(x)\n",
    "            i = int(x.split('_')[0])\n",
    "            j = int(x.split('_')[1])#.split('-')[1])\n",
    "            # j = int(x.split('.')[0].split('-')[1])\n",
    "            if str(i)+'_'+str(j+1) in patch_id:\n",
    "                start.append(patch_id[str(i)+'_'+str(j)])\n",
    "                end.append(patch_id[str(i)+'_'+str(j+1)])\n",
    "            if str(i)+'_'+str(j-1) in patch_id:\n",
    "                start.append(patch_id[str(i)+'_'+str(j)])\n",
    "                end.append(patch_id[str(i)+'_'+str(j-1)])\n",
    "            if str(i+1)+'_'+str(j) in patch_id:\n",
    "                start.append(patch_id[str(i)+'_'+str(j)])\n",
    "                end.append(patch_id[str(i+1)+'_'+str(j)])\n",
    "            if str(i-1)+'_'+str(j) in patch_id:\n",
    "                start.append(patch_id[str(i)+'_'+str(j)])\n",
    "                end.append(patch_id[str(i-1)+'_'+str(j)])\n",
    "            if str(i+1)+'_'+str(j+1) in patch_id:\n",
    "                start.append(patch_id[str(i)+'_'+str(j)])\n",
    "                end.append(patch_id[str(i+1)+'_'+str(j+1)])\n",
    "            if str(i-1)+'_'+str(j+1) in patch_id:\n",
    "                start.append(patch_id[str(i)+'_'+str(j)])\n",
    "                end.append(patch_id[str(i-1)+'_'+str(j+1)])\n",
    "            if str(i+1)+'_'+str(j-1) in patch_id:\n",
    "                start.append(patch_id[str(i)+'_'+str(j)])\n",
    "                end.append(patch_id[str(i+1)+'_'+str(j-1)])\n",
    "            if str(i-1)+'_'+str(j-1) in patch_id:\n",
    "                start.append(patch_id[str(i)+'_'+str(j)])\n",
    "                end.append(patch_id[str(i-1)+'_'+str(j-1)])\n",
    "\n",
    "    return [start,end]"
   ],
   "metadata": {
    "collapsed": false
   }
  },
  {
   "cell_type": "code",
   "execution_count": null,
   "outputs": [],
   "source": [
    "import torch\n",
    "from torch_geometric.data import Data\n",
    "feature_img = {}\n",
    "feature_rna = {}\n",
    "feature_mut = {}\n",
    "feature_cnv = {}\n",
    "data_type = {}\n",
    "for x in patients:\n",
    "    f_img = []\n",
    "    f_rna = []\n",
    "    f_mut = []\n",
    "    f_cnv = []\n",
    "    t_type = []\n",
    "    if x in t_img_fea:\n",
    "        for z in t_img_fea[x]:\n",
    "            f_img.append(t_img_fea[x][z])\n",
    "        t_type.append('img')\n",
    "    if x in t_rna_fea:\n",
    "        # for r in t_rna_fea[x]:\n",
    "        f_rna.append([float(k) for k in t_rna_fea[x]])\n",
    "        t_type.append('rna')\n",
    "    if x in t_mut_fea:\n",
    "        # for r in t_mut_fea[x]:\n",
    "        f_mut.append([float(k) for k in t_mut_fea[x]])\n",
    "        t_type.append('mut')\n",
    "    if x in t_cnv_fea:\n",
    "        # for r in t_cnv_fea[x]:\n",
    "        f_cnv.append([float(k) for k in t_cnv_fea[x]])\n",
    "        t_type.append('cnv')\n",
    "    data_type[x]=t_type\n",
    "    feature_img[x] = f_img\n",
    "    feature_rna[x] = f_rna\n",
    "    feature_mut[x] = f_mut\n",
    "    feature_cnv[x] = f_cnv\n",
    "\n",
    "\n",
    "\n",
    "patient_sur_type = {}\n",
    "for x in patients:\n",
    "    patient_sur_type[x] = sur_and_time[x][0]\n",
    "\n",
    "time = []\n",
    "patient_and_time = {}\n",
    "for x in patients:\n",
    "    time.append(sur_and_time[x][-1])\n",
    "    patient_and_time[x] = sur_and_time[x][-1]"
   ],
   "metadata": {
    "collapsed": false
   }
  },
  {
   "cell_type": "code",
   "execution_count": null,
   "outputs": [],
   "source": [
    "#测试\n",
    "all_data = {}\n",
    "for id in data_type:\n",
    "    print(id)\n",
    "    node_img=torch.tensor(feature_img[id], dtype=torch.float)\n",
    "    rna_s=torch.tensor(feature_rna[id], dtype=torch.float)\n",
    "    mut_s = torch.tensor(feature_mut[id], dtype=torch.float)\n",
    "    cnv_s = torch.tensor(feature_cnv[id], dtype=torch.float)\n",
    "    edge_index_image = torch.tensor(get_edge_index_image(id), dtype=torch.long)\n",
    "    # edge_index_rna = torch.tensor(get_edge_index_rna(id),dtype=torch.long)\n",
    "    # edge_index_cli = torch.tensor(get_edge_index_cli(id),dtype=torch.long)\n",
    "    sur_type=torch.tensor([patient_sur_type[id]])\n",
    "    data_id = id\n",
    "    t_data_type = data_type[id]\n",
    "    data=Data(x_img=node_img, edge_index_image=edge_index_image, rna=rna_s, cnv=cnv_s, mut=mut_s, data_id=id, sur_type=sur_type)\n",
    "    all_data[id] = data\n",
    "    print(data)\n",
    "    # a = edge_index_image\n",
    "    # print(edge_index_image)\n",
    "\n",
    "b = all_data\n",
    "print(b)\n",
    "joblib.dump(all_data,'./luad/all_data.pkl')"
   ],
   "metadata": {
    "collapsed": false
   }
  }
 ],
 "metadata": {
  "kernelspec": {
   "display_name": "Python 3",
   "language": "python",
   "name": "python3"
  },
  "language_info": {
   "codemirror_mode": {
    "name": "ipython",
    "version": 2
   },
   "file_extension": ".py",
   "mimetype": "text/x-python",
   "name": "python",
   "nbconvert_exporter": "python",
   "pygments_lexer": "ipython2",
   "version": "2.7.6"
  }
 },
 "nbformat": 4,
 "nbformat_minor": 0
}
